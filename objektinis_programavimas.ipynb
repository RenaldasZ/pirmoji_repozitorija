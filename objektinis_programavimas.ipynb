{
 "cells": [
  {
   "attachments": {},
   "cell_type": "markdown",
   "metadata": {},
   "source": [
    "### Pirma uzduotis"
   ]
  },
  {
   "cell_type": "code",
   "execution_count": 131,
   "metadata": {},
   "outputs": [],
   "source": [
    "class Darbuotojas:\n",
    "    vardas = 'Renaldas'\n",
    "    pavarde = 'pavardziukas'\n",
    "    pareigos = ''\n",
    "    atlyginimas = ''"
   ]
  },
  {
   "cell_type": "code",
   "execution_count": 132,
   "metadata": {},
   "outputs": [
    {
     "name": "stdout",
     "output_type": "stream",
     "text": [
      "stakliu operatorius\n",
      "420\n"
     ]
    }
   ],
   "source": [
    "pirmas_darbuotojas = Darbuotojas()\n",
    "pirmas_darbuotojas.pareigos = 'stakliu operatorius'\n",
    "pirmas_darbuotojas.atlyginimas = '420'\n",
    "print(pirmas_darbuotojas.pareigos)\n",
    "print(pirmas_darbuotojas.atlyginimas)"
   ]
  },
  {
   "cell_type": "code",
   "execution_count": 133,
   "metadata": {},
   "outputs": [
    {
     "name": "stdout",
     "output_type": "stream",
     "text": [
      "400\n"
     ]
    }
   ],
   "source": [
    "pirmas_darbuotojas.atlyginimas = 400\n",
    "\n",
    "print(pirmas_darbuotojas.atlyginimas)"
   ]
  },
  {
   "cell_type": "code",
   "execution_count": 134,
   "metadata": {},
   "outputs": [
    {
     "name": "stdout",
     "output_type": "stream",
     "text": [
      "Renaldas pavardziukas stakliu operatorius 400\n"
     ]
    }
   ],
   "source": [
    "print(pirmas_darbuotojas.vardas, pirmas_darbuotojas.pavarde, pirmas_darbuotojas.pareigos, pirmas_darbuotojas.atlyginimas)"
   ]
  },
  {
   "cell_type": "code",
   "execution_count": 135,
   "metadata": {},
   "outputs": [
    {
     "name": "stdout",
     "output_type": "stream",
     "text": [
      "Darbuotojo pareigos: Programuotojas\n",
      "Darbuotojo atlyginimas: 2000\n",
      "Darbuotojas: Jonas Jonaitis, pareigos: Programuotojas, atlyginimas: 2500\n"
     ]
    }
   ],
   "source": [
    "#Atsakymas.\n",
    "class Darbuotojas:\n",
    "    def __init__(self, vardas, pavarde, pareigos, atlyginimas=1000):\n",
    "        self.vardas = vardas\n",
    "        self.pavarde = pavarde\n",
    "        self.pareigos = pareigos\n",
    "        self.atlyginimas = atlyginimas\n",
    "\n",
    "    def __str__(self):\n",
    "        return f'{self.vardas} {self.pavarde}, pareigos: {self.pareigos}, atlyginimas: {self.atlyginimas}'\n",
    "\n",
    "darbuotojas = Darbuotojas('Jonas', 'Jonaitis', 'Programuotojas', 2000)\n",
    "\n",
    "print('Darbuotojo pareigos:', darbuotojas.pareigos)\n",
    "print('Darbuotojo atlyginimas:', darbuotojas.atlyginimas)\n",
    "\n",
    "darbuotojas.atlyginimas = 2500\n",
    "\n",
    "print('Darbuotojas:', darbuotojas)"
   ]
  },
  {
   "attachments": {},
   "cell_type": "markdown",
   "metadata": {},
   "source": [
    "### Antra uzduotis"
   ]
  },
  {
   "cell_type": "code",
   "execution_count": 136,
   "metadata": {},
   "outputs": [
    {
     "name": "stdout",
     "output_type": "stream",
     "text": [
      "Gyvūnas vardu Vezliazauras yra 5 metų ir sveria 20 kg\n",
      "Gyvūnas vardu Vezliazauras yra 5 metų ir sveria 25 kg\n",
      "Gyvūnas vardu Vezliazauras yra 6 metų ir sveria 25 kg\n",
      "Gyvūnas vardu Vezliazauras yra 6 metų ir sveria 22 kg\n"
     ]
    }
   ],
   "source": [
    "class Gyvunas:\n",
    "    def __init__(self, vardas, amzius, svoris):\n",
    "        self.vardas = vardas\n",
    "        self.amzius = amzius\n",
    "        self.svoris = svoris\n",
    "    \n",
    "    def padidinti_svori(self, kiek):\n",
    "        self.svoris += kiek\n",
    "\n",
    "    def sumazinti_svori(self, kiek):\n",
    "        self.svoris -= kiek\n",
    "\n",
    "    def pasikeites_amzius(self):\n",
    "        self.amzius += 1\n",
    "        \n",
    "    def __str__(self):\n",
    "        return f'Gyvūnas vardu {self.vardas} yra {self.amzius} metų ir sveria {self.svoris} kg'\n",
    "    \n",
    "gyvunas = Gyvunas('Vezliazauras', 5, 20)\n",
    "print(gyvunas)\n",
    "\n",
    "gyvunas.padidinti_svori(5)\n",
    "print(gyvunas)\n",
    "\n",
    "gyvunas.pasikeites_amzius()\n",
    "print(gyvunas)\n",
    "\n",
    "gyvunas.sumazinti_svori(3)\n",
    "print(gyvunas)"
   ]
  },
  {
   "cell_type": "code",
   "execution_count": 137,
   "metadata": {},
   "outputs": [
    {
     "name": "stdout",
     "output_type": "stream",
     "text": [
      "str asdasd\n"
     ]
    }
   ],
   "source": [
    "x = 'str asdasd'\n",
    "\n",
    "print(x.__str__())"
   ]
  },
  {
   "cell_type": "code",
   "execution_count": 138,
   "metadata": {},
   "outputs": [
    {
     "name": "stdout",
     "output_type": "stream",
     "text": [
      "Programuotojas\n",
      "Jonaitis\n",
      "Jonas Jonaitis, pareigos: Programuotojas kelione: ilga\n"
     ]
    }
   ],
   "source": [
    "class Keliautojas:\n",
    "    def __init__(self, vardas, pavarde, pareigos, kelione):\n",
    "        self.vardas = vardas\n",
    "        self.pavarde = pavarde\n",
    "        self.pareigos = pareigos\n",
    "        self.kelione = kelione\n",
    "\n",
    "    def __str__(self):\n",
    "        return f'{self.vardas} {self.pavarde}, pareigos: {self.pareigos} kelione: {self.kelione}'\n",
    "\n",
    "keliautojas = Keliautojas('Jonas', 'Jonaitis', 'Programuotojas', 'ilga')\n",
    "\n",
    "print(keliautojas.pareigos)\n",
    "print(keliautojas.pavarde)\n",
    "print(keliautojas)"
   ]
  },
  {
   "cell_type": "code",
   "execution_count": 139,
   "metadata": {},
   "outputs": [
    {
     "name": "stdout",
     "output_type": "stream",
     "text": [
      "('2022', 'Juoda', 'Automatinė', 'GPS')\n"
     ]
    }
   ],
   "source": [
    "class Automobilis:\n",
    "    def __init__(self, marke, modelis, *args):\n",
    "        self.marke = marke\n",
    "        self.modelis = modelis\n",
    "        self.papildomi = args\n",
    "\n",
    "    def isvesti_papildomus(self):\n",
    "        print(self.papildomi)\n",
    "\n",
    "automobilis = Automobilis('Audi', 'A4', '2022', 'Juoda', 'Automatinė', 'GPS')\n",
    "automobilis.isvesti_papildomus() # ('2022', 'Juoda', 'Automatinė', 'GPS')"
   ]
  },
  {
   "cell_type": "code",
   "execution_count": 140,
   "metadata": {},
   "outputs": [
    {
     "name": "stdout",
     "output_type": "stream",
     "text": [
      "('extras', 'extras2')\n"
     ]
    }
   ],
   "source": [
    "class Zmogus:\n",
    "    def __init__(self, vardas, pavarde, amzius, *papildomi):\n",
    "        self.vardas = vardas\n",
    "        self.pavarde = pavarde\n",
    "        self.amzius = amzius\n",
    "        self.papildymas = papildomi\n",
    "\n",
    "    def ivesti_papildomus(self):\n",
    "        print(self.papildymas)\n",
    "\n",
    "\n",
    "zmogus = Zmogus('Renaldas', 'Zvega', '33', 'extras', 'extras2')\n",
    "zmogus.ivesti_papildomus() # ('2022', 'Juoda', 'Automatinė', 'GPS')\n",
    "\n"
   ]
  },
  {
   "attachments": {},
   "cell_type": "markdown",
   "metadata": {},
   "source": [
    "### Inkapsuliacija"
   ]
  },
  {
   "cell_type": "code",
   "execution_count": 156,
   "metadata": {},
   "outputs": [
    {
     "name": "stdout",
     "output_type": "stream",
     "text": [
      "20 Eur papildyti pavyko. tavo likutis 1720 Eur\n"
     ]
    }
   ],
   "source": [
    "class BankoSaskaita:\n",
    "    def __init__(self, saskaitos_numeris, savininkas, balansas, pin_kodas):\n",
    "        self.saskaitos_numeris = saskaitos_numeris\n",
    "        self.savininkas = savininkas\n",
    "        self.__balansas = balansas\n",
    "        self.__pin_kodas = pin_kodas\n",
    "\n",
    "    def nuskaityti(self, suma, pin_kodas):\n",
    "        if pin_kodas == self.__pin_kodas:\n",
    "            self.__balansas -= suma\n",
    "            print(f'{suma} Eur nuskaityti pavyko. tavo likutis {self.__balansas} Eur')\n",
    "        else:\n",
    "            print('neteisingas pin kodas')\n",
    "\n",
    "    def papildyti(self , suma, pin_kodas):\n",
    "        if pin_kodas == self.__pin_kodas:\n",
    "            self.__balansas += suma\n",
    "            print(f'{suma} Eur papildyti pavyko. tavo likutis {self.__balansas} Eur')\n",
    "        else:\n",
    "            print('neteisingas pin kodas')\n",
    "\n",
    "saskaita = BankoSaskaita('LT1717171717171717', 'Renaldas', 1700, 1122)\n",
    "\n",
    "# saskaita.nuskaityti(10, 1122)\n",
    "\n",
    "saskaita.papildyti(20, 1122)\n",
    "\n"
   ]
  },
  {
   "cell_type": "code",
   "execution_count": 174,
   "metadata": {},
   "outputs": [
    {
     "name": "stdout",
     "output_type": "stream",
     "text": [
      "haris floperis\n",
      "Created by ren\n",
      "puse velnio\n",
      "150\n"
     ]
    }
   ],
   "source": [
    "class Knyga:\n",
    "    def __init__(self, pavadinimas, autorius, bukle, puslapiai):\n",
    "        self.__pavadinimas = pavadinimas\n",
    "        self.__autorius = autorius\n",
    "        self.__bukle = bukle\n",
    "        self.__puslapiai = puslapiai\n",
    "\n",
    "    def gauti_pavadinima(self):\n",
    "        return self.__pavadinimas\n",
    "\n",
    "    def gauti_autoriu(self):\n",
    "        return self.__autorius\n",
    "\n",
    "    def gauti_bukle(self):\n",
    "        return self.__bukle\n",
    "\n",
    "    def gauti_puslapius(self):\n",
    "        return self.__puslapiai\n",
    "\n",
    "    def __nauja_bukle(self, bukle):\n",
    "        self.__bukle = bukle\n",
    "\n",
    "    def __naujas_puslapiu_skaicius(self, puslapiai):\n",
    "        self.__puslapiai -= puslapiai\n",
    "\n",
    "    def pakeisti_bukle(self, bukle):\n",
    "        self.__nauja_bukle(bukle)\n",
    "\n",
    "    def pakites_puslapiu_skaicius(self, puslapiai):\n",
    "        self.__naujas_puslapiu_skaicius(puslapiai)\n",
    "\n",
    "knyga = Knyga(\"haris floperis\", \"Created by ren\", 'nauja', 200)\n",
    "\n",
    "knyga.pakeisti_bukle('puse velnio')\n",
    "knyga.pakites_puslapiu_skaicius(50)\n",
    "print(knyga.gauti_pavadinima())\n",
    "print(knyga.gauti_autoriu())\n",
    "print(knyga.gauti_bukle())\n",
    "print(knyga.gauti_puslapius())"
   ]
  }
 ],
 "metadata": {
  "kernelspec": {
   "display_name": "venv",
   "language": "python",
   "name": "python3"
  },
  "language_info": {
   "codemirror_mode": {
    "name": "ipython",
    "version": 3
   },
   "file_extension": ".py",
   "mimetype": "text/x-python",
   "name": "python",
   "nbconvert_exporter": "python",
   "pygments_lexer": "ipython3",
   "version": "3.11.2"
  },
  "orig_nbformat": 4
 },
 "nbformat": 4,
 "nbformat_minor": 2
}
