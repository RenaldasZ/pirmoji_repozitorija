{
 "cells": [
  {
   "cell_type": "code",
   "execution_count": 287,
   "metadata": {},
   "outputs": [
    {
     "ename": "ValueError",
     "evalue": "invalid literal for int() with base 10: '3.5'",
     "output_type": "error",
     "traceback": [
      "\u001b[1;31m---------------------------------------------------------------------------\u001b[0m",
      "\u001b[1;31mValueError\u001b[0m                                Traceback (most recent call last)",
      "Cell \u001b[1;32mIn[287], line 9\u001b[0m\n\u001b[0;32m      6\u001b[0m     \u001b[39melse\u001b[39;00m:\n\u001b[0;32m      7\u001b[0m         \u001b[39mprint\u001b[39m(\u001b[39m\"\u001b[39m\u001b[39mĮvestas argumentas nėra skaičius.\u001b[39m\u001b[39m\"\u001b[39m)\n\u001b[1;32m----> 9\u001b[0m skaiciaus_tipas(\u001b[39mint\u001b[39;49m(\u001b[39minput\u001b[39;49m(\u001b[39m\"\u001b[39;49m\u001b[39mvesk: \u001b[39;49m\u001b[39m\"\u001b[39;49m)))\n",
      "\u001b[1;31mValueError\u001b[0m: invalid literal for int() with base 10: '3.5'"
     ]
    }
   ],
   "source": [
    "def skaiciaus_tipas(skaicius):\n",
    "    if type(skaicius) == int:\n",
    "        print(\"Įvestas skaičius yra sveikasis.\")\n",
    "    elif type(skaicius) == float:\n",
    "        print(\"Įvestas skaičius yra trupmeninis.\")\n",
    "    else:\n",
    "        print(\"Įvestas argumentas nėra skaičius.\")\n",
    "\n",
    "skaiciaus_tipas(input(\"vesk: \"))\n",
    "\n"
   ]
  }
 ],
 "metadata": {
  "kernelspec": {
   "display_name": "venv",
   "language": "python",
   "name": "python3"
  },
  "language_info": {
   "name": "python",
   "version": "3.11.2"
  },
  "orig_nbformat": 4
 },
 "nbformat": 4,
 "nbformat_minor": 2
}
