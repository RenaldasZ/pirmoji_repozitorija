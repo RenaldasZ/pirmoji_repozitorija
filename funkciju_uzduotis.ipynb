{
 "cells": [
  {
   "cell_type": "code",
   "execution_count": 34,
   "metadata": {},
   "outputs": [
    {
     "name": "stdout",
     "output_type": "stream",
     "text": [
      "sabaL\n"
     ]
    }
   ],
   "source": [
    "#1. Uzduotis\n",
    "def atbulai(tekstas):\n",
    "    return tekstas[::-1]\n",
    "\n",
    "print(atbulai(\"Labas\"))\n"
   ]
  },
  {
   "cell_type": "code",
   "execution_count": 35,
   "metadata": {},
   "outputs": [
    {
     "name": "stdout",
     "output_type": "stream",
     "text": [
      "30\n"
     ]
    }
   ],
   "source": [
    "#2. uzduotis\n",
    "def suma(x, y, z):\n",
    "    rezultatas = x + y + z\n",
    "    return rezultatas\n",
    "\n",
    "atsakymas = suma(10, 10, 10)\n",
    "print(atsakymas)\n"
   ]
  },
  {
   "cell_type": "code",
   "execution_count": 2,
   "metadata": {},
   "outputs": [
    {
     "name": "stdout",
     "output_type": "stream",
     "text": [
      "['labas', 'rytas']\n"
     ]
    }
   ],
   "source": [
    "#3. uzduotis\n",
    "def filtruoti_pagal_ilgi(sarasas, ilgis):\n",
    "    naujas_sarasas = []\n",
    "    for zodis in sarasas:\n",
    "        if len(zodis) == ilgis:\n",
    "            naujas_sarasas.append(zodis)\n",
    "    return naujas_sarasas\n",
    "\n",
    "zodziai = [\"labas\", \"rytas\", \"Lietuva\", \"valgomasis\", \"gyvunai\"]\n",
    "ilgis = 5\n",
    "\n",
    "naujas_sarasas = filtruoti_pagal_ilgi(zodziai, ilgis)\n",
    "\n",
    "print(naujas_sarasas)\n"
   ]
  },
  {
   "cell_type": "code",
   "execution_count": 62,
   "metadata": {},
   "outputs": [
    {
     "name": "stdout",
     "output_type": "stream",
     "text": [
      "9\n"
     ]
    }
   ],
   "source": [
    "#4 uzduotis\n",
    "def diziausias_skaicius(sarasas):\n",
    "    didziausias = sarasas[0]\n",
    "    for skacius in sarasas:\n",
    "        if skacius > didziausias:\n",
    "            didziausias = skacius\n",
    "    return didziausias\n",
    "\n",
    "sarasas = [1, 5, 3, 9, 2, 7]\n",
    "didziausias = diziausias_skaicius(sarasas)\n",
    "print(didziausias)\n"
   ]
  },
  {
   "cell_type": "code",
   "execution_count": 58,
   "metadata": {},
   "outputs": [
    {
     "name": "stdout",
     "output_type": "stream",
     "text": [
      "['labas', 'lietus']\n"
     ]
    }
   ],
   "source": [
    "#5 uzduotis\n",
    "def pradine_raide(zodziai, raide):\n",
    "    parinkta_raide = []\n",
    "    for raides in zodziai:\n",
    "        if raides.startswith(raide):\n",
    "            parinkta_raide.append(raides)\n",
    "    return parinkta_raide\n",
    "\n",
    "zodziai = [\"labas\", \"rytas\", \"lietus\", \"saulė\", \"kartu\"]\n",
    "parinkta_raide = pradine_raide(zodziai, \"l\")\n",
    "print(parinkta_raide)\n"
   ]
  },
  {
   "cell_type": "code",
   "execution_count": 61,
   "metadata": {},
   "outputs": [
    {
     "name": "stdout",
     "output_type": "stream",
     "text": [
      "['vakaras,', 'kaip']\n"
     ]
    }
   ],
   "source": [
    "#6 uzduotis\n",
    "def rinkti_lyginio_ilgio_zodzius(tekstas):\n",
    "    zodziai = tekstas.split()\n",
    "    lyginio_ilgio_zodziai = []\n",
    "    for zodis in zodziai:\n",
    "        if len(zodis) % 2 == 0:\n",
    "            lyginio_ilgio_zodziai.append(zodis)\n",
    "    return lyginio_ilgio_zodziai\n",
    "\n",
    "tekstas = \"Labas vakaras, kaip sekasi?\"\n",
    "lyginio_ilgio_zodziai = rinkti_lyginio_ilgio_zodzius(tekstas)\n",
    "print(lyginio_ilgio_zodziai) \n"
   ]
  }
 ],
 "metadata": {
  "kernelspec": {
   "display_name": "venv",
   "language": "python",
   "name": "python3"
  },
  "language_info": {
   "codemirror_mode": {
    "name": "ipython",
    "version": 3
   },
   "file_extension": ".py",
   "mimetype": "text/x-python",
   "name": "python",
   "nbconvert_exporter": "python",
   "pygments_lexer": "ipython3",
   "version": "3.11.2"
  },
  "orig_nbformat": 4
 },
 "nbformat": 4,
 "nbformat_minor": 2
}
