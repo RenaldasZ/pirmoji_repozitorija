{
 "cells": [
  {
   "attachments": {},
   "cell_type": "markdown",
   "metadata": {},
   "source": [
    "### užduotėlė"
   ]
  },
  {
   "cell_type": "code",
   "execution_count": 24,
   "metadata": {},
   "outputs": [
    {
     "name": "stdout",
     "output_type": "stream",
     "text": [
      "Katinuotis\n",
      "kate sako miaumiau\n",
      "kate zaidzia su siulu\n",
      "Rexas\n",
      "suo sako auau\n",
      "Šuo bėga laukais!\n",
      "True\n",
      "True\n",
      "True\n",
      "False\n",
      "False\n",
      "True\n"
     ]
    }
   ],
   "source": [
    "class Gyvunas:\n",
    "    def __init__(self, vardas, svoris):\n",
    "        self.vardas = vardas\n",
    "        self.svoris = svoris\n",
    "\n",
    "class Kate(Gyvunas):\n",
    "    def miaumiau(self):\n",
    "        print(\"kate sako miaumiau\")\n",
    "\n",
    "    def balsas(self):\n",
    "        self.miaumiau()\n",
    "    \n",
    "    def judeti(self):\n",
    "        print(\"kate zaidzia su siulu\")\n",
    "\n",
    "class Suo(Gyvunas):\n",
    "    def lojimas(self):\n",
    "        print(\"suo sako auau\")\n",
    "\n",
    "    def balsas(self):\n",
    "        self.lojimas()\n",
    "\n",
    "    def judeti(self):\n",
    "        print(\"Šuo bėga laukais!\")\n",
    "\n",
    "kate = Kate(\"Katinuotis\", 5)\n",
    "print(kate.vardas)\n",
    "kate.balsas() \n",
    "kate.judeti() \n",
    "\n",
    "suo = Suo(\"Rexas\", 10)\n",
    "print(suo.vardas)\n",
    "suo.balsas() \n",
    "suo.judeti() \n",
    "\n",
    "\n",
    "print(isinstance(kate, Gyvunas)) # True\n",
    "print(isinstance(suo, Gyvunas)) # True\n",
    "\n",
    "print(isinstance(kate, Kate)) # True\n",
    "print(isinstance(suo, Kate)) # False\n",
    "\n",
    "print(isinstance(kate, Suo)) # False\n",
    "print(isinstance(suo, Suo)) # True\n",
    "\n"
   ]
  },
  {
   "cell_type": "code",
   "execution_count": 26,
   "metadata": {},
   "outputs": [
    {
     "name": "stdout",
     "output_type": "stream",
     "text": [
      "Pilkis\n",
      "Ramiai guliu...\n",
      "Rainė\n",
      "Miau\n",
      "Einu lėtai\n",
      "Margis\n",
      "Au au!\n",
      "Bėgu greitai\n",
      "True\n",
      "False\n",
      "False\n",
      "True\n",
      "True\n",
      "False\n",
      "True\n",
      "False\n",
      "True\n"
     ]
    }
   ],
   "source": [
    "class Gyvunas:\n",
    "    def __init__(self, vardas):\n",
    "        self.vardas = vardas\n",
    "\n",
    "    def balsas(self):\n",
    "        pass\n",
    "\n",
    "    def judeti(self):\n",
    "        print('Ramiai guliu...')\n",
    "\n",
    "class Kate(Gyvunas):\n",
    "    def balsas(self):\n",
    "        print('Miau')\n",
    "\n",
    "    def judeti(self):\n",
    "        print('Einu lėtai')\n",
    "\n",
    "class Suo(Gyvunas):\n",
    "    def balsas(self):\n",
    "        print('Au au!')\n",
    "\n",
    "    def judeti(self):\n",
    "        print('Bėgu greitai')\n",
    "\n",
    "\n",
    "seskas = Gyvunas('Pilkis')\n",
    "kate = Kate('Rainė')\n",
    "suo = Suo('Margis')\n",
    "\n",
    "print(seskas.vardas)\n",
    "seskas.balsas()\n",
    "seskas.judeti()\n",
    "\n",
    "print(kate.vardas)\n",
    "kate.balsas()\n",
    "kate.judeti()\n",
    "\n",
    "print(suo.vardas)\n",
    "suo.balsas()\n",
    "suo.judeti()\n",
    "\n",
    "print(isinstance(seskas, Gyvunas))\n",
    "print(isinstance(seskas, Kate))\n",
    "print(isinstance(seskas, Suo))\n",
    "print(isinstance(kate, Gyvunas))\n",
    "print(isinstance(kate, Kate))\n",
    "print(isinstance(kate, Suo))\n",
    "print(isinstance(suo, Gyvunas))\n",
    "print(isinstance(suo, Kate))\n",
    "print(isinstance(suo, Suo))"
   ]
  },
  {
   "attachments": {},
   "cell_type": "markdown",
   "metadata": {},
   "source": [
    "### Paveldėjimo paaiškinimas"
   ]
  },
  {
   "cell_type": "code",
   "execution_count": 27,
   "metadata": {},
   "outputs": [
    {
     "name": "stdout",
     "output_type": "stream",
     "text": [
      "savybe1 reiksme\n",
      "savybe2 reiksme\n",
      "savybe3 reiksme\n",
      "Tai Tevinės klasės metodas 1\n",
      "Tai Paveldėtos klasės metodas 2\n"
     ]
    }
   ],
   "source": [
    "# Paveldėjimas (angl. inheritance) yra objektinio programavimo konceptas,\n",
    "# kurio pagrindinis tikslas - perpanaudojant jau sukurtą kodą, sukurti naujus objektus,\n",
    "# kurie turi visus ar dalinai tėvinio objekto savybes ir metodus.\n",
    "# Tai leidžia išvengti dubliavimosi kodo ir padidinti programos efektyvumą ir struktūrą.\n",
    "\n",
    "# Python kalboje paveldėjimas yra realizuojamas naudojant klasės paveldėjimą.\n",
    "# Tai reiškia, kad viena klasė gali paveldėti savybes ir metodus iš kitos klasės.\n",
    "# Tam, kad klasė paveldėtų savybes ir metodus iš kitos klasės, ją reikia įtraukti į naująją klasę,\n",
    "# nurodant tėvinę klasę skliausteliuose po klasės pavadinimo. Tai yra daroma naudojant raktažodį \"super\".\n",
    "\n",
    "# Pavyzdys:\n",
    "\n",
    "class TevineKlase:\n",
    "    def __init__(self, savybe1, savybe2):\n",
    "        self.savybe1 = savybe1\n",
    "        self.savybe2 = savybe2\n",
    "\n",
    "    def metodas1(self):\n",
    "        print(\"Tai Tevinės klasės metodas 1\")\n",
    "\n",
    "class PaveldetaKlase(TevineKlase):\n",
    "    def __init__(self, savybe1, savybe2, savybe3):\n",
    "        super().__init__(savybe1, savybe2)\n",
    "        self.savybe3 = savybe3\n",
    "\n",
    "    def metodas2(self):\n",
    "        print(\"Tai Paveldėtos klasės metodas 2\")\n",
    "\n",
    "objektas = PaveldetaKlase(\"savybe1 reiksme\", \"savybe2 reiksme\", \"savybe3 reiksme\")\n",
    "\n",
    "print(objektas.savybe1) # išveda \"savybe1 reiksme\"\n",
    "print(objektas.savybe2) # išveda \"savybe2 reiksme\"\n",
    "print(objektas.savybe3) # išveda \"savybe3 reiksme\"\n",
    "\n",
    "objektas.metodas1() # išveda \"Tai Tevinės klasės metodas 1\"\n",
    "objektas.metodas2() # išveda \"Tai Paveldėtos klasės metodas 2\"\n",
    "\n",
    "# Šioje kodo dalyje yra sukurtos dvi klases: TevineKlase ir PaveldetaKlase.\n",
    "# PaveldetaKlase yra paveldėjusi TevineKlase.\n",
    "# PaveldetaKlase praplėčia TevineKlase funkcionalumą pridėdama savo savybę savybe3 ir savo metodą metodas2.\n",
    "# Konstruktorius __init__ iškviečia tėvinės\n"
   ]
  }
 ],
 "metadata": {
  "kernelspec": {
   "display_name": "venv",
   "language": "python",
   "name": "python3"
  },
  "language_info": {
   "codemirror_mode": {
    "name": "ipython",
    "version": 3
   },
   "file_extension": ".py",
   "mimetype": "text/x-python",
   "name": "python",
   "nbconvert_exporter": "python",
   "pygments_lexer": "ipython3",
   "version": "3.11.2"
  },
  "orig_nbformat": 4
 },
 "nbformat": 4,
 "nbformat_minor": 2
}
