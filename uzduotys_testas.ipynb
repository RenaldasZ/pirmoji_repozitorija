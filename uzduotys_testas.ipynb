{
 "cells": [
  {
   "attachments": {},
   "cell_type": "markdown",
   "metadata": {},
   "source": [
    "## Pirma uzduotis "
   ]
  },
  {
   "cell_type": "code",
   "execution_count": 168,
   "metadata": {},
   "outputs": [
    {
     "name": "stdout",
     "output_type": "stream",
     "text": [
      "{'Leo': '4', 'mic': '7', 'suo': '2'}\n"
     ]
    }
   ],
   "source": [
    "zodynas = {\n",
    "    'Leo': '4',\n",
    "    'mic': '7',\n",
    "    'suo': '2'\n",
    "}\n",
    "print(zodynas)"
   ]
  },
  {
   "attachments": {},
   "cell_type": "markdown",
   "metadata": {},
   "source": [
    "## Antra uzduotis"
   ]
  },
  {
   "cell_type": "code",
   "execution_count": 169,
   "metadata": {},
   "outputs": [
    {
     "name": "stdout",
     "output_type": "stream",
     "text": [
      "4\n"
     ]
    }
   ],
   "source": [
    "print(zodynas['Leo'])"
   ]
  },
  {
   "attachments": {},
   "cell_type": "markdown",
   "metadata": {},
   "source": [
    "## Trecia uzduotis"
   ]
  },
  {
   "cell_type": "code",
   "execution_count": 170,
   "metadata": {},
   "outputs": [
    {
     "name": "stdout",
     "output_type": "stream",
     "text": [
      "{'Leo': '4', 'mic': '7', 'suo': '2', 'sargis': '2'}\n"
     ]
    }
   ],
   "source": [
    "zodynas['sargis'] = '2'\n",
    "print(zodynas)"
   ]
  },
  {
   "attachments": {},
   "cell_type": "markdown",
   "metadata": {},
   "source": [
    "## Ketvirta uzduotis"
   ]
  },
  {
   "cell_type": "code",
   "execution_count": 171,
   "metadata": {},
   "outputs": [
    {
     "name": "stdout",
     "output_type": "stream",
     "text": [
      "{'Leo': '4', 'mic': '7', 'suo': '2', 'sargis': 4}\n"
     ]
    }
   ],
   "source": [
    "zodynas['sargis'] = 4\n",
    "print(zodynas) "
   ]
  },
  {
   "attachments": {},
   "cell_type": "markdown",
   "metadata": {},
   "source": [
    "## Penkta uzduotis"
   ]
  },
  {
   "cell_type": "code",
   "execution_count": 172,
   "metadata": {},
   "outputs": [
    {
     "name": "stdout",
     "output_type": "stream",
     "text": [
      "{'Leo': '4', 'mic': '7', 'suo': '2'}\n"
     ]
    }
   ],
   "source": [
    "del zodynas['sargis']\n",
    "print(zodynas)"
   ]
  },
  {
   "attachments": {},
   "cell_type": "markdown",
   "metadata": {},
   "source": [
    "## Sesta uzduotis"
   ]
  },
  {
   "cell_type": "code",
   "execution_count": 173,
   "metadata": {},
   "outputs": [
    {
     "name": "stdout",
     "output_type": "stream",
     "text": [
      "dict_keys(['Leo', 'mic', 'suo'])\n"
     ]
    }
   ],
   "source": [
    "print(zodynas.keys())"
   ]
  },
  {
   "cell_type": "code",
   "execution_count": 174,
   "metadata": {},
   "outputs": [
    {
     "name": "stdout",
     "output_type": "stream",
     "text": [
      "dict_values(['4', '7', '2'])\n"
     ]
    }
   ],
   "source": [
    "print(zodynas.values())"
   ]
  },
  {
   "cell_type": "code",
   "execution_count": 175,
   "metadata": {},
   "outputs": [
    {
     "name": "stdout",
     "output_type": "stream",
     "text": [
      "dict_items([('Leo', '4'), ('mic', '7'), ('suo', '2')])\n"
     ]
    }
   ],
   "source": [
    "print(zodynas.items())"
   ]
  },
  {
   "cell_type": "code",
   "execution_count": 176,
   "metadata": {},
   "outputs": [
    {
     "name": "stdout",
     "output_type": "stream",
     "text": [
      "2\n"
     ]
    }
   ],
   "source": [
    "print(list(zodynas.values())[2])"
   ]
  },
  {
   "attachments": {},
   "cell_type": "markdown",
   "metadata": {},
   "source": [
    "## Bonus uzduotis"
   ]
  },
  {
   "cell_type": "code",
   "execution_count": 177,
   "metadata": {},
   "outputs": [
    {
     "name": "stdout",
     "output_type": "stream",
     "text": [
      "{'volvo': 'tipas1', 'mazda': 'versija2', 'opel': 'versija3'}\n"
     ]
    }
   ],
   "source": [
    "automobiliai = {\n",
    "    'volvo': 'tipas1',\n",
    "      'mazda': 'versija2',\n",
    "        'opel': 'versija3',\n",
    "        }\n",
    "print(automobiliai)"
   ]
  },
  {
   "attachments": {},
   "cell_type": "markdown",
   "metadata": {},
   "source": [
    "## Tuple uzduotis"
   ]
  },
  {
   "cell_type": "code",
   "execution_count": 178,
   "metadata": {},
   "outputs": [
    {
     "name": "stdout",
     "output_type": "stream",
     "text": [
      "('alkoholikai', 'narkomanai', 'programuotojai', 'pankai', 'vegetarai')\n"
     ]
    }
   ],
   "source": [
    "raides = (\"alkoholikai\", \"narkomanai\", \"programuotojai\", \"pankai\", \"vegetarai\")\n",
    "print(raides)"
   ]
  },
  {
   "cell_type": "code",
   "execution_count": 179,
   "metadata": {},
   "outputs": [
    {
     "name": "stdout",
     "output_type": "stream",
     "text": [
      "('ne alkoholikai', 'ne narkomanai', 'ne programuotojai', 'ne pankai', 'ne vegetarai')\n"
     ]
    }
   ],
   "source": [
    "raides2 = (\"ne alkoholikai\", \"ne narkomanai\", \"ne programuotojai\", \"ne pankai\", \"ne vegetarai\")\n",
    "print(raides2)"
   ]
  },
  {
   "cell_type": "code",
   "execution_count": 180,
   "metadata": {},
   "outputs": [
    {
     "name": "stdout",
     "output_type": "stream",
     "text": [
      "('alkoholikai', 'narkomanai', 'programuotojai', 'pankai', 'vegetarai', 'ne alkoholikai', 'ne narkomanai', 'ne programuotojai', 'ne pankai', 'ne vegetarai')\n"
     ]
    }
   ],
   "source": [
    "print(raides + raides2)"
   ]
  },
  {
   "cell_type": "code",
   "execution_count": 181,
   "metadata": {},
   "outputs": [
    {
     "name": "stdout",
     "output_type": "stream",
     "text": [
      "alkoholikai\n",
      "programuotojai\n",
      "vegetarai\n"
     ]
    }
   ],
   "source": [
    "print(raides[0])\n",
    "print(raides[2])\n",
    "print(raides[-1])"
   ]
  },
  {
   "cell_type": "code",
   "execution_count": 182,
   "metadata": {},
   "outputs": [
    {
     "name": "stdout",
     "output_type": "stream",
     "text": [
      "('alkoholikai', 'narkomanai', 'programuotojai', 'pankai', 'vegetarai')\n"
     ]
    }
   ],
   "source": [
    "raides[1::2]\n",
    "print(raides)"
   ]
  },
  {
   "cell_type": "code",
   "execution_count": 183,
   "metadata": {},
   "outputs": [
    {
     "name": "stdout",
     "output_type": "stream",
     "text": [
      "1\n"
     ]
    }
   ],
   "source": [
    "print(raides.count('narkomanai'))"
   ]
  },
  {
   "cell_type": "code",
   "execution_count": 184,
   "metadata": {},
   "outputs": [
    {
     "name": "stdout",
     "output_type": "stream",
     "text": [
      "0\n"
     ]
    }
   ],
   "source": [
    "print(raides.index('alkoholikai'))"
   ]
  },
  {
   "cell_type": "code",
   "execution_count": 185,
   "metadata": {},
   "outputs": [
    {
     "name": "stdout",
     "output_type": "stream",
     "text": [
      "True\n"
     ]
    }
   ],
   "source": [
    "print('narkomanai' in raides)"
   ]
  },
  {
   "cell_type": "code",
   "execution_count": 194,
   "metadata": {},
   "outputs": [
    {
     "name": "stdout",
     "output_type": "stream",
     "text": [
      "alkoholikai\n",
      "narkomanai\n",
      "programuotojai\n",
      "pankai\n",
      "vegetarai\n"
     ]
    }
   ],
   "source": [
    "zodis = 0\n",
    "while zodis < len(raides):\n",
    "    print(raides[zodis])\n",
    "    zodis += 1"
   ]
  }
 ],
 "metadata": {
  "kernelspec": {
   "display_name": "venv",
   "language": "python",
   "name": "python3"
  },
  "language_info": {
   "codemirror_mode": {
    "name": "ipython",
    "version": 3
   },
   "file_extension": ".py",
   "mimetype": "text/x-python",
   "name": "python",
   "nbconvert_exporter": "python",
   "pygments_lexer": "ipython3",
   "version": "3.11.2"
  },
  "orig_nbformat": 4
 },
 "nbformat": 4,
 "nbformat_minor": 2
}
