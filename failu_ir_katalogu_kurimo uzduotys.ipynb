{
 "cells": [
  {
   "cell_type": "code",
   "execution_count": 9,
   "metadata": {},
   "outputs": [
    {
     "name": "stdout",
     "output_type": "stream",
     "text": [
      "Katalogas 'Mano_Katalogas' jau egzistuoja.\n"
     ]
    }
   ],
   "source": [
    "import os\n",
    "\n",
    "katalogo_kelias = 'Mano_Katalogas'\n",
    "if not os.path.exists(katalogo_kelias):\n",
    "    os.makedirs(katalogo_kelias)\n",
    "    print(f\"Katalogas '{katalogo_kelias}' sukurtas.\")\n",
    "else:\n",
    "    print(f\"Katalogas '{katalogo_kelias}' jau egzistuoja.\")"
   ]
  },
  {
   "cell_type": "code",
   "execution_count": 10,
   "metadata": {},
   "outputs": [
    {
     "name": "stdout",
     "output_type": "stream",
     "text": [
      "Dabartinis katalogas: c:\\Users\\Ren\\CodeAcademy\\pirmoji_repozitorija\n",
      ".git\n",
      ".gitignore\n",
      "03_paveldejimas.ipynb\n",
      "Abstrakcija.ipynb\n",
      "aibes.ipynb\n",
      "Anoniminės_funkcijos_uzduotis.ipynb\n",
      "ciklai.ipynb\n",
      "Dokumentavimas_ir_Anotacijos.ipynb\n",
      "failu_ir_katalogu_kurimo uzduotys.ipynb\n",
      "Failų_skaitymas_rašymas\n",
      "funciju_uzduotis.ipynb\n",
      "funkcijos.ipynb\n",
      "funkciju_uzduotis.ipynb\n",
      "importai\n",
      "importaidu\n",
      "LICENSE\n",
      "Mano_Katalogas\n",
      "nebutini_argumentai.ipynb\n",
      "nebutini_argumentai_uzduotys.ipynb\n",
      "neriboti_argumentai.ipynb\n",
      "neriboti_argumentai_uzduotys.ipynb\n",
      "objektinis_programavimas.ipynb\n",
      "pabandymai.py\n",
      "Polimorfizmas.ipynb\n",
      "programa.py\n",
      "README.md\n",
      "stringai.ipynb\n",
      "uzduotis.py\n",
      "uzduotys_testas.ipynb\n",
      "venv\n",
      "while_uzduotis.ipynb\n",
      "__pycache__\n"
     ]
    }
   ],
   "source": [
    "import os\n",
    "\n",
    "# Gauti dabartinio darbo katalogo kelią\n",
    "dabartinis_katalogas = os.getcwd()\n",
    "print(f\"Dabartinis katalogas: {dabartinis_katalogas}\")\n",
    "\n",
    "for failai in os.listdir(dabartinis_katalogas):\n",
    "    print(failai)\n"
   ]
  },
  {
   "cell_type": "code",
   "execution_count": 13,
   "metadata": {},
   "outputs": [
    {
     "name": "stdout",
     "output_type": "stream",
     "text": [
      "Failas 'testas.txt' egzistuoja.\n",
      "Failas 'testas.txt' ištrintas.\n"
     ]
    }
   ],
   "source": [
    "with open(\"testas.txt\", \"w\") as failas:\n",
    "    failas.write(\"Labas, pasauli!\")\n",
    "\n",
    "failo_kelias = 'testas.txt'\n",
    "if os.path.exists(failo_kelias):\n",
    "    print(f\"Failas '{failo_kelias}' egzistuoja.\")\n",
    "else:\n",
    "    print(f\"Failas '{failo_kelias}' neegzistuoja.\")\n",
    "\n",
    "\n",
    "failo_kelias = 'testas.txt'\n",
    "\n",
    "if os.path.exists(failo_kelias):\n",
    "    os.remove(failo_kelias)\n",
    "    print(f\"Failas '{failo_kelias}' ištrintas.\")\n",
    "else:\n",
    "    print(f\"Failas '{failo_kelias}' neegzistuoja.\")"
   ]
  }
 ],
 "metadata": {
  "kernelspec": {
   "display_name": "venv",
   "language": "python",
   "name": "python3"
  },
  "language_info": {
   "codemirror_mode": {
    "name": "ipython",
    "version": 3
   },
   "file_extension": ".py",
   "mimetype": "text/x-python",
   "name": "python",
   "nbconvert_exporter": "python",
   "pygments_lexer": "ipython3",
   "version": "3.11.2"
  },
  "orig_nbformat": 4
 },
 "nbformat": 4,
 "nbformat_minor": 2
}
