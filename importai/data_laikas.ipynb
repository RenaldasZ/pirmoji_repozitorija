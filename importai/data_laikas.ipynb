{
 "cells": [
  {
   "cell_type": "code",
   "execution_count": 4,
   "metadata": {},
   "outputs": [],
   "source": [
    "from datetime import datetime"
   ]
  },
  {
   "cell_type": "code",
   "execution_count": 8,
   "metadata": {},
   "outputs": [
    {
     "name": "stdout",
     "output_type": "stream",
     "text": [
      "2003-04-24 13:05:40.123123 <class 'datetime.datetime'>\n"
     ]
    }
   ],
   "source": [
    "dt = datetime(2003,4,24, 13, 5, 40, 123123)\n",
    "print(dt, type(dt))"
   ]
  },
  {
   "cell_type": "code",
   "execution_count": 9,
   "metadata": {},
   "outputs": [
    {
     "name": "stdout",
     "output_type": "stream",
     "text": [
      "2023-04-24 13:06:56.554360\n"
     ]
    }
   ],
   "source": [
    "dabar = datetime.now()\n",
    "print(dabar)"
   ]
  },
  {
   "cell_type": "code",
   "execution_count": 18,
   "metadata": {},
   "outputs": [
    {
     "name": "stdout",
     "output_type": "stream",
     "text": [
      "2023-04-24 13:32:46.857467\n"
     ]
    }
   ],
   "source": [
    "siandien = datetime.today()\n",
    "print(siandien)"
   ]
  },
  {
   "cell_type": "code",
   "execution_count": 32,
   "metadata": {},
   "outputs": [
    {
     "name": "stdout",
     "output_type": "stream",
     "text": [
      "39:19\n"
     ]
    }
   ],
   "source": [
    "from datetime import datetime\n",
    "\n",
    "date_object = datetime.today()\n",
    "format_string = \"%M:%S\"\n",
    "\n",
    "date_string = date_object.strftime(format_string)\n",
    "print(date_string)"
   ]
  },
  {
   "cell_type": "code",
   "execution_count": 82,
   "metadata": {},
   "outputs": [
    {
     "name": "stdout",
     "output_type": "stream",
     "text": [
      "Dabar: 2023-04-24 13:46:49.160454\n",
      "Iki gimtadienio liko: 355 days, 10:13:10.839546\n"
     ]
    }
   ],
   "source": [
    "from datetime import datetime\n",
    "\n",
    "dabar = datetime.today()\n",
    "print(\"Dabar:\", dabar)\n",
    "\n",
    "\n",
    "# Skirtumas tarp dviejų datų\n",
    "date1 = datetime.today()\n",
    "date2 = datetime(2024, 4, 14)\n",
    "skirtumas = date2 - date1\n",
    "print(\"Iki gimtadienio liko:\", skirtumas) "
   ]
  },
  {
   "cell_type": "code",
   "execution_count": 83,
   "metadata": {},
   "outputs": [
    {
     "name": "stdout",
     "output_type": "stream",
     "text": [
      "Liko 355 dienos (-ų) iki gimtadienio.\n"
     ]
    }
   ],
   "source": [
    "from datetime import datetime\n",
    "\n",
    "def dienos_iki_gimtadienio(gimimo_data):\n",
    "    gimimo_data_format = datetime.strptime(gimimo_data, \"%Y-%m-%d\")\n",
    "    siandiena = datetime.now()\n",
    "    gimtadienio_data = gimimo_data_format.replace(year=siandiena.year)\n",
    "\n",
    "    if gimtadienio_data < siandiena:\n",
    "        gimtadienio_data = gimtadienio_data.replace(year=siandiena.year + 1)\n",
    "\n",
    "    skirtumas = gimtadienio_data - siandiena\n",
    "    return skirtumas.days\n",
    "\n",
    "gimimo_data = \"1991-04-14\"\n",
    "print(f\"Liko {dienos_iki_gimtadienio(gimimo_data)} dienos (-ų) iki gimtadienio.\")"
   ]
  },
  {
   "cell_type": "code",
   "execution_count": 98,
   "metadata": {},
   "outputs": [
    {
     "name": "stdout",
     "output_type": "stream",
     "text": [
      "Po 48 valandų: 2023-04-26 13:53:54.755154\n"
     ]
    }
   ],
   "source": [
    "from datetime import datetime, timedelta\n",
    "\n",
    "\n",
    "\n",
    "po_48_valandu = dabar + timedelta(hours=48)\n",
    "print(\"Po 48 valandų:\", po_48_valandu)\n",
    "\n"
   ]
  },
  {
   "cell_type": "code",
   "execution_count": 176,
   "metadata": {},
   "outputs": [
    {
     "name": "stdout",
     "output_type": "stream",
     "text": [
      "Skirtumas tarp datų: 365 days, 0:00:00\n",
      "org: 1681313400.0\n",
      "skirtumas\n",
      "new: 1649777400.0\n"
     ]
    }
   ],
   "source": [
    "from datetime import datetime\n",
    "import time\n",
    "\n",
    "date_object = datetime(2023, 4, 12, 18, 30, 0)\n",
    "date_object2 = datetime(2022, 4, 12, 18 ,30, 0)\n",
    "skirtumas = date_object - date_object2\n",
    "\n",
    "\n",
    "print(\"Skirtumas tarp datų:\", skirtumas) \n",
    "\n",
    "timestamp = time.mktime(date_object.timetuple())\n",
    "timestamp2 = time.mktime(date_object2.timetuple())\n",
    "print(f'org: {timestamp}\\nskirtumas\\nnew: {timestamp2}')\n"
   ]
  },
  {
   "cell_type": "code",
   "execution_count": 154,
   "metadata": {},
   "outputs": [
    {
     "name": "stdout",
     "output_type": "stream",
     "text": [
      "2023-04-24 yra Pirmadienis.\n"
     ]
    },
    {
     "data": {
      "text/plain": [
       "'Pirmadienis'"
      ]
     },
     "execution_count": 154,
     "metadata": {},
     "output_type": "execute_result"
    }
   ],
   "source": [
    "from datetime import datetime\n",
    "\n",
    "def savaites_diena(data):\n",
    "    savaites_dienos = [\"Pirmadienis\", \"Antradienis\", \"Trečiadienis\", \"Ketvirtadienis\", \"Penktadienis\", \"Šeštadienis\", \"Sekmadienis\"]\n",
    "    datetime_obj = datetime.strptime(data, '%Y-%m-%d')\n",
    "    savaites_diena = savaites_dienos[datetime_obj.weekday()]\n",
    "    print(f\"{data} yra {savaites_diena}.\")\n",
    "    return savaites_diena\n",
    "\n",
    "savaites_diena(\"2023-04-24\")"
   ]
  },
  {
   "cell_type": "code",
   "execution_count": 137,
   "metadata": {},
   "outputs": [
    {
     "name": "stdout",
     "output_type": "stream",
     "text": [
      "Monday\n"
     ]
    }
   ],
   "source": [
    "from datetime import datetime\n",
    "\n",
    "def get_weekday(date_string):\n",
    "    date_object = datetime.strptime(date_string, \"%Y-%m-%d\")\n",
    "    weekday = date_object.strftime(\"%A\")\n",
    "    return weekday\n",
    "\n",
    "date_string = \"2023-04-24\"\n",
    "\n",
    "weekday = get_weekday(date_string)\n",
    "print(weekday) "
   ]
  },
  {
   "cell_type": "code",
   "execution_count": 164,
   "metadata": {},
   "outputs": [
    {
     "name": "stdout",
     "output_type": "stream",
     "text": [
      "2023-04-24 savaitės diena: Pirmadienis\n"
     ]
    }
   ],
   "source": [
    "import datetime\n",
    "\n",
    "def savaites_diena(data):\n",
    "    dienos = {0: 'Pirmadienis', 1: 'Antradienis', 2: 'Trečiadienis', 3: 'Ketvirtadienis', 4: 'Penktadienis', 5: 'Šeštadienis', 6: 'Sekmadienis'}\n",
    "    data_obj = datetime.datetime.strptime(data, '%Y-%m-%d')\n",
    "    return dienos[data_obj.weekday()]\n",
    "\n",
    "data = '2023-04-24'\n",
    "savaites_diena_str = savaites_diena(data)\n",
    "print(f\"{data} savaitės diena: {savaites_diena_str}\")\n"
   ]
  }
 ],
 "metadata": {
  "kernelspec": {
   "display_name": "venv",
   "language": "python",
   "name": "python3"
  },
  "language_info": {
   "codemirror_mode": {
    "name": "ipython",
    "version": 3
   },
   "file_extension": ".py",
   "mimetype": "text/x-python",
   "name": "python",
   "nbconvert_exporter": "python",
   "pygments_lexer": "ipython3",
   "version": "3.11.2"
  },
  "orig_nbformat": 4
 },
 "nbformat": 4,
 "nbformat_minor": 2
}
