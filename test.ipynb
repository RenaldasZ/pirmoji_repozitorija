{
 "cells": [
  {
   "cell_type": "code",
   "execution_count": 5,
   "metadata": {},
   "outputs": [
    {
     "name": "stdout",
     "output_type": "stream",
     "text": [
      "Please choose a product from the following menu:\n",
      "1. spaghetti\n",
      "2. pizza\n",
      "3. salad\n",
      "You have chosen pizza.\n"
     ]
    }
   ],
   "source": [
    "# Create a three-item menu list\n",
    "menu = ['spaghetti', 'pizza', 'salad']\n",
    "\n",
    "# Prompt the user to select a product from the list\n",
    "print(\"Please choose a product from the following menu:\")\n",
    "for i, item in enumerate(menu):\n",
    "    print(f\"{i+1}. {item}\")\n",
    "choice = int(input(\"Enter the number of your choice: \"))\n",
    "\n",
    "# Save the user's choice\n",
    "chosen_item = menu[choice-1]\n",
    "\n",
    "# Print the user's choice\n",
    "print(f\"You have chosen {chosen_item}.\")"
   ]
  }
 ],
 "metadata": {
  "kernelspec": {
   "display_name": "venv",
   "language": "python",
   "name": "python3"
  },
  "language_info": {
   "codemirror_mode": {
    "name": "ipython",
    "version": 3
   },
   "file_extension": ".py",
   "mimetype": "text/x-python",
   "name": "python",
   "nbconvert_exporter": "python",
   "pygments_lexer": "ipython3",
   "version": "3.11.2"
  },
  "orig_nbformat": 4
 },
 "nbformat": 4,
 "nbformat_minor": 2
}
