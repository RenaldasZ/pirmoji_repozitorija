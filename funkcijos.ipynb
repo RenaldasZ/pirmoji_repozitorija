{
 "cells": [
  {
   "cell_type": "code",
   "execution_count": 20,
   "metadata": {},
   "outputs": [
    {
     "name": "stdout",
     "output_type": "stream",
     "text": [
      "Labas studente\n",
      "Labas zmogau\n"
     ]
    }
   ],
   "source": [
    "def pasisveikinti(vardas):\n",
    "    print(f\"Labas {vardas}\")\n",
    "\n",
    "pasisveikinti(\"studente\")\n",
    "pasisveikinti(\"zmogau\")"
   ]
  },
  {
   "attachments": {},
   "cell_type": "markdown",
   "metadata": {},
   "source": [
    "## 01_funkcijos_aprasymo_struktura"
   ]
  },
  {
   "cell_type": "code",
   "execution_count": 35,
   "metadata": {},
   "outputs": [
    {
     "name": "stdout",
     "output_type": "stream",
     "text": [
      "Įvestas skaičius yra lyginis.\n"
     ]
    }
   ],
   "source": [
    "# 1 - Užduotis - pilnai padaryta ir aprašyta.\n",
    "\n",
    "# 1. Parašykite funkciją lyginis_nelyginis(skaicius), kuri patikrina, ar skaičius yra lyginis ar nelyginis ir išveda atitinkamą pranešimą.\n",
    "\n",
    "# Ši funkcija patikrina, ar skaičius padalinus iš 2 yra be liekanos, kas reiškia, kad jis yra lyginis. Jei skaičius nėra lyginis, tada funkcija išveda, kad jis yra nelyginis.\n",
    "\n",
    "def lyginis_nelyginis(skaicius):\n",
    "    if skaicius % 2 == 0:\n",
    "        print(skaicius, \"yra lyginis\")\n",
    "    else:\n",
    "        print(skaicius, \"yra nelyginis\")\n",
    "\n",
    "lyginis_nelyginis(10)\n",
    "          "
   ]
  },
  {
   "cell_type": "code",
   "execution_count": 61,
   "metadata": {},
   "outputs": [
    {
     "name": "stdout",
     "output_type": "stream",
     "text": [
      "5 yra teigiamas skaičius.\n"
     ]
    }
   ],
   "source": [
    "# 2 - Užduotis - pilnai padaryta ir aprašyta.\n",
    "\n",
    "# 1. The ar_teigiamas function returns a string message instead of printing it directly.\n",
    "# 2. The input function returns a string, so you need to convert it to an integer using the int function.\n",
    "# 3. The ar_teigiamas function is called with the skaicius input inside parentheses.\n",
    "# 4. The result of the function call is stored in the rez variable.\n",
    "# 5. The rez variable is printed using the print function.\n",
    "\n",
    "# 1. Funkcija ar_teigiamas grąžina žinutę teksto eilutės pavidalu vietoj to, kad tiesiog ją spausdintų.\n",
    "# 2. Įvesties funkcija grąžina tekstą, todėl jį reikia konvertuoti į sveikąjį skaičių naudojant funkciją int.\n",
    "# 3. Funkcija ar_teigiamas yra iškviečiama su skaicius įvestimi, įdėta tarp skliaustų.\n",
    "# 4. Funkcijos iškvietimo rezultatas yra saugomas kintamajame rez.\n",
    "# 5. Rez kintamasis spausdinamas naudojant print funkciją.\n",
    "\n",
    "def ar_teigiamas(skaicius):\n",
    "    if skaicius > 0:\n",
    "        return str(skaicius) + \" yra teigiamas skaičius.\"\n",
    "    elif skaicius == 0:\n",
    "        return str(skaicius) + \" nėra nei teigiamas, nei neigiamas skaičius.\"\n",
    "    else:\n",
    "        return str(skaicius) + \" yra neigiamas skaičius.\"\n",
    "\n",
    "skaicius = int(input(\"Įveskite skaičių: \"))\n",
    "rez = ar_teigiamas(skaicius)\n",
    "print(rez)\n"
   ]
  },
  {
   "cell_type": "code",
   "execution_count": 62,
   "metadata": {},
   "outputs": [
    {
     "name": "stdout",
     "output_type": "stream",
     "text": [
      "Įvestas skaičius yra didesnis nei 2.\n"
     ]
    }
   ],
   "source": [
    "# 3 - Užduotis - pilnai padaryta ir aprašyta.\n",
    "\n",
    "# Here's an example of how you can use the input() function to get user input for the skaicius and riba variables\n",
    "#  and then call the ar_daugiau_nei function with those\n",
    "#     values:\n",
    "\n",
    "def ar_daugiau_nei(skaicius, riba):\n",
    "    if skaicius > riba:\n",
    "        print(f\"Įvestas skaičius yra didesnis nei {riba}.\")\n",
    "    else:\n",
    "        print(f\"Įvestas skaičius nėra didesnis nei {riba}.\")\n",
    "\n",
    "\n",
    "skaicius = int(input(\"Įveskite skaičių: \"))\n",
    "riba = int(input(\"Įveskite ribą: \"))\n",
    "ar_daugiau_nei(skaicius, riba)\n"
   ]
  },
  {
   "attachments": {},
   "cell_type": "markdown",
   "metadata": {},
   "source": [
    "## 02_argumentai_grazinama_reiksme_return"
   ]
  },
  {
   "cell_type": "code",
   "execution_count": 8,
   "metadata": {},
   "outputs": [
    {
     "name": "stdout",
     "output_type": "stream",
     "text": [
      "satsket salubtA - sigis ,sedek uzu kedes\n"
     ]
    }
   ],
   "source": [
    "# Pirma užduotis\n",
    "# 1. Sukurkite funkciją, kuri priima sąrašą ir grąžina naują sąrašą atvirkščia tvarka.\n",
    "\n",
    "# This is a Python function that takes a string as input and returns the same string reversed. In this case, the input string is \"Labas\", so the output should be \"sabaL\".\n",
    "# When the function is called with atbulai(\"Labas\"), it should return \"sabaL\".\n",
    "\n",
    "def atbulai(tekstas):\n",
    "    return tekstas[::-1]\n",
    "\n",
    "print(atbulai(\"sedek uzu kedes, sigis - Atbulas tekstas\"))\n",
    "\n"
   ]
  },
  {
   "cell_type": "code",
   "execution_count": 25,
   "metadata": {},
   "outputs": [
    {
     "name": "stdout",
     "output_type": "stream",
     "text": [
      "utar isakus satar\n"
     ]
    }
   ],
   "source": [
    "ratas_atbulai = atbulai(\"ratas sukasi ratu\")\n",
    "print(ratas_atbulai)\n"
   ]
  },
  {
   "cell_type": "code",
   "execution_count": 26,
   "metadata": {},
   "outputs": [
    {
     "name": "stdout",
     "output_type": "stream",
     "text": [
      "4\n"
     ]
    }
   ],
   "source": [
    "def daugyba(x, y):\n",
    "    return x * y\n",
    "\n",
    "print(daugyba(2, 2))\n"
   ]
  },
  {
   "cell_type": "code",
   "execution_count": 27,
   "metadata": {},
   "outputs": [
    {
     "name": "stdout",
     "output_type": "stream",
     "text": [
      "pirmas antras\n"
     ]
    }
   ],
   "source": [
    "def kiaura(par1 , par2):\n",
    "    return par1, par2\n",
    "\n",
    "# print(kiaura(\"pirmas\", \"antras\"))\n",
    "pirmas, antras = kiaura(\"pirmas\", \"antras\")\n",
    "print(pirmas, antras)\n"
   ]
  },
  {
   "cell_type": "code",
   "execution_count": 28,
   "metadata": {},
   "outputs": [
    {
     "name": "stdout",
     "output_type": "stream",
     "text": [
      "([1, 2, 4, 6, 8, 11], [-3, -5, -7, -9, -10], ['a'])\n"
     ]
    }
   ],
   "source": [
    "def teigiami_neigiami(skaiciu_sarasas):\n",
    "    teigiami = []\n",
    "    neigiami = []\n",
    "    kiti = []\n",
    "    for skaicius in skaiciu_sarasas:\n",
    "        if type(skaicius) == int or type == float:\n",
    "            if skaicius > 0:\n",
    "                teigiami.append(skaicius)\n",
    "            else:\n",
    "                neigiami.append(skaicius)\n",
    "        else:\n",
    "            kiti.append(skaicius)\n",
    "    return teigiami, neigiami, kiti\n",
    "    \n",
    "skaiciai = [1, 2, -3, 4, -5, \"a\", 6, -7, 8, -9, -10, 11]\n",
    "print(teigiami_neigiami(skaiciai))\n"
   ]
  },
  {
   "cell_type": "code",
   "execution_count": 29,
   "metadata": {},
   "outputs": [
    {
     "name": "stdout",
     "output_type": "stream",
     "text": [
      "3\n"
     ]
    }
   ],
   "source": [
    "didziausias_skaicius = lambda x, y, z: max(x, y, z)\n",
    "\n",
    "print(didziausias_skaicius(1, 2, 3)) "
   ]
  }
 ],
 "metadata": {
  "kernelspec": {
   "display_name": "venv",
   "language": "python",
   "name": "python3"
  },
  "language_info": {
   "codemirror_mode": {
    "name": "ipython",
    "version": 3
   },
   "file_extension": ".py",
   "mimetype": "text/x-python",
   "name": "python",
   "nbconvert_exporter": "python",
   "pygments_lexer": "ipython3",
   "version": "3.11.2"
  },
  "orig_nbformat": 4
 },
 "nbformat": 4,
 "nbformat_minor": 2
}
