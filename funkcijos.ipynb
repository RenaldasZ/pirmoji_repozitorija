{
 "cells": [
  {
   "cell_type": "code",
   "execution_count": 20,
   "metadata": {},
   "outputs": [
    {
     "name": "stdout",
     "output_type": "stream",
     "text": [
      "Labas studente\n",
      "Labas zmogau\n"
     ]
    }
   ],
   "source": [
    "def pasisveikinti(vardas):\n",
    "    print(f\"Labas {vardas}\")\n",
    "\n",
    "pasisveikinti(\"studente\")\n",
    "pasisveikinti(\"zmogau\")"
   ]
  },
  {
   "cell_type": "code",
   "execution_count": 35,
   "metadata": {},
   "outputs": [
    {
     "name": "stdout",
     "output_type": "stream",
     "text": [
      "Įvestas skaičius yra lyginis.\n"
     ]
    }
   ],
   "source": [
    "def lyginis_nelyginis(skaicius):\n",
    "    if skaicius % 2 == 0:\n",
    "        print(\"Įvestas skaičius yra lyginis.\")\n",
    "    else:\n",
    "        print(\"Įvestas skaičius yra nelyginis.\")\n",
    "        \n",
    "lyginis_nelyginis(10)\n",
    "          "
   ]
  },
  {
   "cell_type": "code",
   "execution_count": 46,
   "metadata": {},
   "outputs": [
    {
     "name": "stdout",
     "output_type": "stream",
     "text": [
      "5 yra teigiamas skaičius.\n"
     ]
    }
   ],
   "source": [
    "#Parašykite funkciją ar_teigiamas(skaicius), kuri patikrina, ar skaičius yra teigiamas ir išveda atitinkamą pranešimą.\n",
    "\n",
    "def ar_teigiamas(skaicius):\n",
    "    if skaicius > 0:\n",
    "        print(skaicius, \"yra teigiamas skaičius.\")\n",
    "    elif skaicius == 0:\n",
    "        print(skaicius, \"nėra nei teigiamas, nei neigiamas skaičius.\")\n",
    "    else:\n",
    "        print(skaicius, \"yra neigiamas skaičius.\")\n",
    "        skaicius = input(\"ivesk\")\n",
    "\n",
    "\n"
   ]
  },
  {
   "cell_type": "code",
   "execution_count": 23,
   "metadata": {},
   "outputs": [
    {
     "name": "stdout",
     "output_type": "stream",
     "text": [
      "Įvestas skaičius yra didesnis nei 10.\n"
     ]
    }
   ],
   "source": [
    "def ar_daugiau_nei(skaicius, riba):\n",
    "    if skaicius > riba:\n",
    "        print(f\"Įvestas skaičius yra didesnis nei {riba}.\")\n",
    "    else:\n",
    "        print(f\"Įvestas skaičius nėra didesnis nei {riba}.\")\n",
    "\n",
    "\n",
    "ar_daugiau_nei(20, 10)\n"
   ]
  },
  {
   "cell_type": "code",
   "execution_count": 24,
   "metadata": {},
   "outputs": [
    {
     "name": "stdout",
     "output_type": "stream",
     "text": [
      "sabaL\n"
     ]
    }
   ],
   "source": [
    "def atbulai(tekstas):\n",
    "    return tekstas[::-1]\n",
    "\n",
    "print(atbulai(\"Labas\"))\n"
   ]
  },
  {
   "cell_type": "code",
   "execution_count": 25,
   "metadata": {},
   "outputs": [
    {
     "name": "stdout",
     "output_type": "stream",
     "text": [
      "utar isakus satar\n"
     ]
    }
   ],
   "source": [
    "ratas_atbulai = atbulai(\"ratas sukasi ratu\")\n",
    "print(ratas_atbulai)\n"
   ]
  },
  {
   "cell_type": "code",
   "execution_count": 26,
   "metadata": {},
   "outputs": [
    {
     "name": "stdout",
     "output_type": "stream",
     "text": [
      "4\n"
     ]
    }
   ],
   "source": [
    "def daugyba(x, y):\n",
    "    return x * y\n",
    "\n",
    "print(daugyba(2, 2))\n"
   ]
  },
  {
   "cell_type": "code",
   "execution_count": 27,
   "metadata": {},
   "outputs": [
    {
     "name": "stdout",
     "output_type": "stream",
     "text": [
      "pirmas antras\n"
     ]
    }
   ],
   "source": [
    "def kiaura(par1 , par2):\n",
    "    return par1, par2\n",
    "\n",
    "# print(kiaura(\"pirmas\", \"antras\"))\n",
    "pirmas, antras = kiaura(\"pirmas\", \"antras\")\n",
    "print(pirmas, antras)\n"
   ]
  },
  {
   "cell_type": "code",
   "execution_count": 28,
   "metadata": {},
   "outputs": [
    {
     "name": "stdout",
     "output_type": "stream",
     "text": [
      "([1, 2, 4, 6, 8, 11], [-3, -5, -7, -9, -10], ['a'])\n"
     ]
    }
   ],
   "source": [
    "def teigiami_neigiami(skaiciu_sarasas):\n",
    "    teigiami = []\n",
    "    neigiami = []\n",
    "    kiti = []\n",
    "    for skaicius in skaiciu_sarasas:\n",
    "        if type(skaicius) == int or type == float:\n",
    "            if skaicius > 0:\n",
    "                teigiami.append(skaicius)\n",
    "            else:\n",
    "                neigiami.append(skaicius)\n",
    "        else:\n",
    "            kiti.append(skaicius)\n",
    "    return teigiami, neigiami, kiti\n",
    "    \n",
    "skaiciai = [1, 2, -3, 4, -5, \"a\", 6, -7, 8, -9, -10, 11]\n",
    "print(teigiami_neigiami(skaiciai))\n"
   ]
  },
  {
   "cell_type": "code",
   "execution_count": 29,
   "metadata": {},
   "outputs": [
    {
     "name": "stdout",
     "output_type": "stream",
     "text": [
      "3\n"
     ]
    }
   ],
   "source": [
    "didziausias_skaicius = lambda x, y, z: max(x, y, z)\n",
    "\n",
    "print(didziausias_skaicius(1, 2, 3)) "
   ]
  }
 ],
 "metadata": {
  "kernelspec": {
   "display_name": "venv",
   "language": "python",
   "name": "python3"
  },
  "language_info": {
   "codemirror_mode": {
    "name": "ipython",
    "version": 3
   },
   "file_extension": ".py",
   "mimetype": "text/x-python",
   "name": "python",
   "nbconvert_exporter": "python",
   "pygments_lexer": "ipython3",
   "version": "3.11.2"
  },
  "orig_nbformat": 4
 },
 "nbformat": 4,
 "nbformat_minor": 2
}
