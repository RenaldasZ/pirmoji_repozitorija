{
 "cells": [
  {
   "cell_type": "code",
   "execution_count": 21,
   "metadata": {},
   "outputs": [],
   "source": [
    "def didziausias_skaicius(*args):\n",
    "    return max(args)"
   ]
  },
  {
   "cell_type": "code",
   "execution_count": 22,
   "metadata": {},
   "outputs": [
    {
     "name": "stdout",
     "output_type": "stream",
     "text": [
      "3\n",
      "10\n",
      "7\n"
     ]
    }
   ],
   "source": [
    "print(didziausias_skaicius(1, 2, 3))   # Išveda 3\n",
    "print(didziausias_skaicius(-1, 5, 10)) # Išveda 10\n",
    "print(didziausias_skaicius(7, 1))      # Išveda 7"
   ]
  },
  {
   "cell_type": "code",
   "execution_count": 23,
   "metadata": {},
   "outputs": [],
   "source": [
    "def raktai(**kwargs):\n",
    "    nurodyti_raktai = {\"vardas\", \"amzius\", \"miestas\"}\n",
    "    return {key: value for key, value in kwargs.items() if key in nurodyti_raktai}\n"
   ]
  },
  {
   "cell_type": "code",
   "execution_count": 24,
   "metadata": {},
   "outputs": [
    {
     "name": "stdout",
     "output_type": "stream",
     "text": [
      "{'vardas': 'Renaldas', 'amzius': 32, 'miestas': 'Šiauliai'}\n"
     ]
    }
   ],
   "source": [
    "print(raktai(vardas=\"Renaldas\", amzius=32, miestas=\"Šiauliai\"))"
   ]
  },
  {
   "cell_type": "code",
   "execution_count": 25,
   "metadata": {},
   "outputs": [],
   "source": [
    "def sujungti(*args, **kwargs):\n",
    "    result = list(args)  # pridedame *args argumentų reikšmes\n",
    "    for key, value in kwargs.items():\n",
    "        result.append(key)\n",
    "        result.append(value)\n",
    "    return result"
   ]
  },
  {
   "cell_type": "code",
   "execution_count": 26,
   "metadata": {},
   "outputs": [
    {
     "name": "stdout",
     "output_type": "stream",
     "text": [
      "[1, 2, 3, 'vardas', 'Jonas', 'amzius', 30, 'miestas', 'Vilnius']\n",
      "['Labas', 'rytas', '!', 'vardas', 'Petras', 'miestas', 'Kaunas']\n"
     ]
    }
   ],
   "source": [
    "print(sujungti(1, 2, 3, vardas=\"Jonas\", amzius=30, miestas=\"Vilnius\"))\n",
    "# grąžins: [1, 2, 3, 'vardas', 'Jonas', 'amzius', 30, 'miestas', 'Vilnius']\n",
    "\n",
    "print(sujungti(\"Labas\", \"rytas\", \"!\", vardas=\"Petras\", miestas=\"Kaunas\"))\n",
    "# grąžins: ['Labas', 'rytas', '!', 'vardas', 'Petras', 'miestas', 'Kaunas']\n"
   ]
  }
 ],
 "metadata": {
  "kernelspec": {
   "display_name": "venv",
   "language": "python",
   "name": "python3"
  },
  "language_info": {
   "codemirror_mode": {
    "name": "ipython",
    "version": 3
   },
   "file_extension": ".py",
   "mimetype": "text/x-python",
   "name": "python",
   "nbconvert_exporter": "python",
   "pygments_lexer": "ipython3",
   "version": "3.11.2"
  },
  "orig_nbformat": 4
 },
 "nbformat": 4,
 "nbformat_minor": 2
}
