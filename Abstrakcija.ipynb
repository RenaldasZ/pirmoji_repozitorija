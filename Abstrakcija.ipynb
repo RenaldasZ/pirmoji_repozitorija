{
 "cells": [
  {
   "attachments": {},
   "cell_type": "markdown",
   "metadata": {},
   "source": [
    "### pirma uzduotis"
   ]
  },
  {
   "cell_type": "code",
   "execution_count": 229,
   "metadata": {},
   "outputs": [],
   "source": [
    "class Baseinas:\n",
    "    def __init__(self, talpa):\n",
    "        self.talpa = talpa\n",
    "        self.kiekis = 0\n",
    "        \n",
    "    def papildyti_vandeni(self, kiekis):\n",
    "        if self.kiekis + kiekis <= self.talpa:\n",
    "            self.kiekis += kiekis\n",
    "            print(f'Papildyta {kiekis} litrais vandens. Dabartinis kiekis: {self.kiekis} litrų.')\n",
    "        else:\n",
    "            print(f'Nepavyko papildyti vandens. Talpoje nėra vietos.')\n",
    "            \n",
    "    def nuleisti_vandeni(self, kiekis):\n",
    "        if self.kiekis - kiekis >= 0:\n",
    "            self.kiekis -= kiekis\n",
    "            print(f'Išleista {kiekis} litrų vandens. Dabartinis kiekis: {self.kiekis} litrų.')\n",
    "        else:\n",
    "            print(f'Nepavyko išleisti vandens. Baseine nėra tiek vandens.')\n",
    "    \n",
    "    def _keitimas(self):\n",
    "        pass # abstraktus metodas\n",
    "        \n",
    "    def patikrinti_kieki(self):\n",
    "        print(f'Dabartinis vandens kiekis: {self.kiekis} litrų.')\n",
    "\n",
    "b = Baseinas(1000)\n"
   ]
  },
  {
   "cell_type": "code",
   "execution_count": 230,
   "metadata": {},
   "outputs": [
    {
     "name": "stdout",
     "output_type": "stream",
     "text": [
      "Papildyta 20 litrais vandens. Dabartinis kiekis: 20 litrų.\n",
      "Dabartinis vandens kiekis: 20 litrų.\n"
     ]
    }
   ],
   "source": [
    "b.papildyti_vandeni(20)\n",
    "b.patikrinti_kieki()"
   ]
  },
  {
   "cell_type": "code",
   "execution_count": 231,
   "metadata": {},
   "outputs": [
    {
     "name": "stdout",
     "output_type": "stream",
     "text": [
      "Išleista 20 litrų vandens. Dabartinis kiekis: 0 litrų.\n",
      "Dabartinis vandens kiekis: 0 litrų.\n"
     ]
    }
   ],
   "source": [
    "b.nuleisti_vandeni(20)\n",
    "b.patikrinti_kieki()"
   ]
  },
  {
   "attachments": {},
   "cell_type": "markdown",
   "metadata": {},
   "source": [
    "### perasymas"
   ]
  },
  {
   "cell_type": "code",
   "execution_count": 133,
   "metadata": {},
   "outputs": [],
   "source": [
    "class Baseinas:\n",
    "    def __init__(self, talpa):\n",
    "        self.talpa = talpa\n",
    "        self.kiekis = 0\n",
    "    \n",
    "    def papildyti_vandeni(self, kiekis):\n",
    "        if self.kiekis + kiekis <= self.talpa:\n",
    "            self.kiekis += kiekis\n",
    "            print(f\"papildyta {kiekis} dabar yra {self.kiekis} vandens\")\n",
    "        else:\n",
    "            print(f\"neuztenka vietos\")\n",
    "\n",
    "    def nuleisti_vandeni(self, kiekis):\n",
    "        if self.kiekis - kiekis >= 0:\n",
    "            self.kiekis -= kiekis\n",
    "            print(f\"isleista {kiekis} liko {self.kiekis} vandens\")\n",
    "        else:\n",
    "            print(f\"nepavyko. nera tiek vandens\")\n",
    "\n",
    "    def _keitimas(self, kiekis):\n",
    "        pass\n",
    "\n",
    "    def patikrinti_kieki(self):\n",
    "        print(f\"{self.kiekis}\")\n",
    "\n",
    "        "
   ]
  },
  {
   "cell_type": "code",
   "execution_count": 134,
   "metadata": {},
   "outputs": [],
   "source": [
    "b = Baseinas(1000)"
   ]
  },
  {
   "cell_type": "code",
   "execution_count": 221,
   "metadata": {},
   "outputs": [
    {
     "name": "stdout",
     "output_type": "stream",
     "text": [
      "neuztenka vietos\n",
      "1000\n"
     ]
    }
   ],
   "source": [
    "b.papildyti_vandeni(20)\n",
    "b.patikrinti_kieki()"
   ]
  },
  {
   "cell_type": "code",
   "execution_count": 168,
   "metadata": {},
   "outputs": [
    {
     "name": "stdout",
     "output_type": "stream",
     "text": [
      "nepavyko. nera tiek vandens\n",
      "0\n"
     ]
    }
   ],
   "source": [
    "b.nuleisti_vandeni(20)\n",
    "b.patikrinti_kieki()"
   ]
  },
  {
   "attachments": {},
   "cell_type": "markdown",
   "metadata": {},
   "source": [
    "### paaiškinimas ir pavizdys"
   ]
  },
  {
   "cell_type": "code",
   "execution_count": null,
   "metadata": {},
   "outputs": [],
   "source": [
    "# Abstrakcija yra programavimo sąvoka,\n",
    "# kuri reiškia duomenų ir operacijų išskaidymą į atskirus sluoksnius arba lygius,\n",
    "# siekiant supaprastinti kompleksinę sistemą ir padaryti ją lengviau suprantamą.\n",
    "# Tai yra būdas paslėpti sudėtingumą ir koncentruoti dėmesį tik į svarbius programos elementus.\n",
    "\n",
    "# Konkrečiau, Python programavime abstrakcija dažniausiai naudojama su klasių ir objektų konceptais.\n",
    "# Programuotojas gali apibrėžti klases, kurios apibūdina objektų savybes ir veiksmus,\n",
    "# bet nepasirūpindamas konkrečiomis realizacijomis. Tada naudodami šias klases,\n",
    "# programuotojai gali kurti objektus, kurie paveldi klasių savybes ir metodus,\n",
    "# bet juos gali naudoti be jokio poreikio žinoti apie klasių vidinę veikimą ar įgyvendinimą.\n",
    "\n",
    "# Pavyzdžiui, galime turėti abstrakčią \"Gyvūnas\" klasę,\n",
    "# kurioje apibrėžiame bendras gyvūnų savybes, pvz., vardą ir amžių,\n",
    "# bet nepasirūpiname konkrečiais veiksmais, kuriuos gyvūnai gali atlikti.\n",
    "# Tada galime kurti skirtingų tipų gyvūnų klases, pvz., \"Šuo\" ir \"Katinas\",\n",
    "# kurios paveldi \"Gyvūnas\" klasės savybes, bet gali turėti savo unikalių metodų, pvz.,\n",
    "# \"Lojalumas()\" ar \"Gaudymas_pele()\". Galiausiai galime kurti objektus iš šių klasių, pvz.,\n",
    "# \"Bobikas\" ir \"Murklys\", kurie paveldi \"Šuo\" ir \"Katinas\" klasių savybes,\n",
    "# bet juos gali naudoti be jokio poreikio žinoti, kaip veikia šios klasės viduje."
   ]
  },
  {
   "cell_type": "code",
   "execution_count": 222,
   "metadata": {},
   "outputs": [
    {
     "name": "stdout",
     "output_type": "stream",
     "text": [
      "Vardas: Bobikas\n",
      "Amzius: 3\n",
      "Vardas: Murklys\n",
      "Amzius: 2\n",
      "Bobikas gaudo pele\n",
      "Murklys zaidzia su kamuoliu\n"
     ]
    }
   ],
   "source": [
    "class Gyvunas:\n",
    "    def __init__(self, vardas, amzius):\n",
    "        self.vardas = vardas\n",
    "        self.amzius = amzius\n",
    "\n",
    "    def informacija(self):\n",
    "        print(\"Vardas:\", self.vardas)\n",
    "        print(\"Amzius:\", self.amzius)\n",
    "\n",
    "class Sunus(Gyvunas):\n",
    "    def __init__(self, vardas, amzius, lojalumas):\n",
    "        super().__init__(vardas, amzius)\n",
    "        self.lojalumas = lojalumas\n",
    "\n",
    "    def gaudymas_pele(self):\n",
    "        print(self.vardas, \"gaudo pele\")\n",
    "\n",
    "class Katinas(Gyvunas):\n",
    "    def __init__(self, vardas, amzius, miegumas):\n",
    "        super().__init__(vardas, amzius)\n",
    "        self.miegumas = miegumas\n",
    "\n",
    "    def zaidimas_su_kamuoliu(self):\n",
    "        print(self.vardas, \"zaidzia su kamuoliu\")\n",
    "\n",
    "# Sukuriam naujus objektus\n",
    "bobikas = Sunus(\"Bobikas\", 3, True)\n",
    "murklys = Katinas(\"Murklys\", 2, False)\n",
    "\n",
    "# Naudodami abstrakcija galime gauti informacija apie objektus\n",
    "bobikas.informacija()\n",
    "murklys.informacija()\n",
    "\n",
    "# Naudodami abstrakcija galime naudoti objektų metodus\n",
    "bobikas.gaudymas_pele()\n",
    "murklys.zaidimas_su_kamuoliu()\n",
    "\n",
    "# Šiame pavyzdyje turime abstrakčią \"Gyvūnas\" klasę, kuri apibrėžia bendras gyvūnų savybes\n",
    "# ir turi metodą \"informacija()\", kuris leidžia gauti informaciją apie gyvūno vardą ir amžių.\n",
    "\n",
    "# Taip pat turime konkretesnes klases \"Šuo\" ir \"Katinas\", kurios paveldi \"Gyvūnas\" klasės savybes,\n",
    "# bet turi savo unikalių metodus, pvz., \"gaudymas_pele()\" ir \"zaidimas_su_kamuoliu()\".\n",
    "\n",
    "# Galime sukurti objektus iš šių klasių, pvz., \"Bobikas\" ir \"Murklys\", ir naudoti jų metodus,\n",
    "# pvz., \"informacija()\", \"gaudymas_pele()\" ir \"zaidimas_su_kamuoliu()\".\n",
    "\n",
    "# Abstrakcija čia padeda paslėpti sudėtingumą\n",
    "# ir koncentruoti dėmesį tik į svarbius programos elementus, leidžiant mums lengviau kurti ir naudoti objektus."
   ]
  }
 ],
 "metadata": {
  "kernelspec": {
   "display_name": "venv",
   "language": "python",
   "name": "python3"
  },
  "language_info": {
   "codemirror_mode": {
    "name": "ipython",
    "version": 3
   },
   "file_extension": ".py",
   "mimetype": "text/x-python",
   "name": "python",
   "nbconvert_exporter": "python",
   "pygments_lexer": "ipython3",
   "version": "3.11.2"
  },
  "orig_nbformat": 4
 },
 "nbformat": 4,
 "nbformat_minor": 2
}
