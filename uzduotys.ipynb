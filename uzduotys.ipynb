{
 "cells": [
  {
   "attachments": {},
   "cell_type": "markdown",
   "metadata": {},
   "source": [
    "pirma uzduotis"
   ]
  },
  {
   "cell_type": "code",
   "execution_count": 87,
   "metadata": {},
   "outputs": [
    {
     "name": "stdout",
     "output_type": "stream",
     "text": [
      "['Duona', 'jautiena', 'kiauliena', 'salotos', 'suris']\n"
     ]
    }
   ],
   "source": [
    "sarasas = ['Duona', 'jautiena', 'kiauliena', 'salotos', 'suris']\n",
    "print(sarasas)"
   ]
  },
  {
   "attachments": {},
   "cell_type": "markdown",
   "metadata": {},
   "source": [
    "Antroji uzduotis"
   ]
  },
  {
   "cell_type": "code",
   "execution_count": 88,
   "metadata": {},
   "outputs": [
    {
     "name": "stdout",
     "output_type": "stream",
     "text": [
      "Duona\n"
     ]
    }
   ],
   "source": [
    "print(sarasas[0])"
   ]
  },
  {
   "cell_type": "code",
   "execution_count": 89,
   "metadata": {},
   "outputs": [
    {
     "name": "stdout",
     "output_type": "stream",
     "text": [
      "kiauliena\n"
     ]
    }
   ],
   "source": [
    "print(sarasas[2])"
   ]
  },
  {
   "cell_type": "code",
   "execution_count": 90,
   "metadata": {},
   "outputs": [
    {
     "name": "stdout",
     "output_type": "stream",
     "text": [
      "suris\n"
     ]
    }
   ],
   "source": [
    "print(sarasas[-1])"
   ]
  },
  {
   "attachments": {},
   "cell_type": "markdown",
   "metadata": {},
   "source": [
    "Trecioji uzduotis"
   ]
  },
  {
   "cell_type": "code",
   "execution_count": 91,
   "metadata": {},
   "outputs": [
    {
     "name": "stdout",
     "output_type": "stream",
     "text": [
      "['Duona', 'jautiena', 'kiauliena']\n"
     ]
    }
   ],
   "source": [
    "print(sarasas[:3])"
   ]
  },
  {
   "cell_type": "code",
   "execution_count": 92,
   "metadata": {},
   "outputs": [
    {
     "name": "stdout",
     "output_type": "stream",
     "text": [
      "['salotos', 'suris']\n"
     ]
    }
   ],
   "source": [
    "print(sarasas[-2:])"
   ]
  },
  {
   "cell_type": "code",
   "execution_count": 93,
   "metadata": {},
   "outputs": [
    {
     "name": "stdout",
     "output_type": "stream",
     "text": [
      "['kiauliena', 'salotos', 'suris']\n"
     ]
    }
   ],
   "source": [
    "print(sarasas[2:])"
   ]
  },
  {
   "cell_type": "code",
   "execution_count": 94,
   "metadata": {},
   "outputs": [],
   "source": [
    "sarasas.append('kepti koldūnai')\n",
    "print(sarasas)"
   ]
  },
  {
   "cell_type": "code",
   "execution_count": 95,
   "metadata": {},
   "outputs": [
    {
     "name": "stdout",
     "output_type": "stream",
     "text": [
      "['Duona', 'jautiena', 'kiauliena', 'alus', 'salotos', 'suris']\n"
     ]
    }
   ],
   "source": [
    "sarasas.insert(3, \"alus\")\n",
    "print(sarasas) "
   ]
  },
  {
   "cell_type": "code",
   "execution_count": 96,
   "metadata": {},
   "outputs": [
    {
     "name": "stdout",
     "output_type": "stream",
     "text": [
      "['Duona', 'pica', 'kiauliena', 'alus', 'salotos', 'suris']\n"
     ]
    }
   ],
   "source": [
    "sarasas[1] = 'pica'\n",
    "print(sarasas)"
   ]
  },
  {
   "cell_type": "code",
   "execution_count": 97,
   "metadata": {},
   "outputs": [
    {
     "name": "stdout",
     "output_type": "stream",
     "text": [
      "['Duona', 'kiauliena', 'alus', 'salotos', 'suris']\n"
     ]
    }
   ],
   "source": [
    "del sarasas[1]\n",
    "print(sarasas)"
   ]
  },
  {
   "cell_type": "code",
   "execution_count": 98,
   "metadata": {},
   "outputs": [
    {
     "name": "stdout",
     "output_type": "stream",
     "text": [
      "['Duona', 'kiauliena', 'alus', 'suris']\n"
     ]
    }
   ],
   "source": [
    "del sarasas[3]\n",
    "print(sarasas)"
   ]
  },
  {
   "cell_type": "code",
   "execution_count": 99,
   "metadata": {},
   "outputs": [
    {
     "name": "stdout",
     "output_type": "stream",
     "text": [
      "2\n"
     ]
    }
   ],
   "source": [
    "indeksas = sarasas.index('alus')\n",
    "print(indeksas)"
   ]
  },
  {
   "cell_type": "code",
   "execution_count": 100,
   "metadata": {},
   "outputs": [
    {
     "name": "stdout",
     "output_type": "stream",
     "text": [
      "['suris', 'kiauliena', 'alus', 'Duona']\n"
     ]
    }
   ],
   "source": [
    "sarasas.sort(reverse=True)\n",
    "print(sarasas)"
   ]
  },
  {
   "cell_type": "code",
   "execution_count": 101,
   "metadata": {},
   "outputs": [
    {
     "name": "stdout",
     "output_type": "stream",
     "text": [
      "4\n"
     ]
    }
   ],
   "source": [
    "print(len(sarasas))"
   ]
  },
  {
   "cell_type": "code",
   "execution_count": 105,
   "metadata": {},
   "outputs": [
    {
     "name": "stdout",
     "output_type": "stream",
     "text": [
      "False\n",
      "True\n"
     ]
    }
   ],
   "source": [
    "print(\"pica\" in sarasas)\n",
    "print(\"Duona\" in sarasas)"
   ]
  }
 ],
 "metadata": {
  "kernelspec": {
   "display_name": "venv",
   "language": "python",
   "name": "python3"
  },
  "language_info": {
   "codemirror_mode": {
    "name": "ipython",
    "version": 3
   },
   "file_extension": ".py",
   "mimetype": "text/x-python",
   "name": "python",
   "nbconvert_exporter": "python",
   "pygments_lexer": "ipython3",
   "version": "3.11.2"
  },
  "orig_nbformat": 4
 },
 "nbformat": 4,
 "nbformat_minor": 2
}
