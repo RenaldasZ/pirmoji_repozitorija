{
 "cells": [
  {
   "cell_type": "code",
   "execution_count": 669,
   "metadata": {},
   "outputs": [
    {
     "name": "stdout",
     "output_type": "stream",
     "text": [
      "4\n",
      "1\n",
      "4\n",
      "laimejai\n"
     ]
    }
   ],
   "source": [
    "import random\n",
    "i = 0\n",
    "while (i < 3):\n",
    "    kauliukas = random.randint(1, 6)\n",
    "    print(kauliukas)\n",
    "    if kauliukas == 5:\n",
    "        print(\"pralaimejai\")\n",
    "        break\n",
    "    i = i + 1\n",
    "else:\n",
    "    print(\"laimejai\")\n",
    "    "
   ]
  },
  {
   "cell_type": "code",
   "execution_count": 670,
   "metadata": {},
   "outputs": [
    {
     "name": "stdout",
     "output_type": "stream",
     "text": [
      "Laimejai\n"
     ]
    }
   ],
   "source": [
    "import random\n",
    "\n",
    "trys_metimai = random.sample(range(1, 7), 3)\n",
    "if 5 in trys_metimai:\n",
    "    print(\"Pralaimejai\")\n",
    "else:\n",
    "    print(\"Laimejai\")"
   ]
  },
  {
   "cell_type": "code",
   "execution_count": 671,
   "metadata": {},
   "outputs": [
    {
     "name": "stdout",
     "output_type": "stream",
     "text": [
      "Jus laimejote, jusu kauliukas issirideno: 3\n",
      "Jus laimejote, jusu kauliukas issirideno: 1\n",
      "Jus laimejote, jusu kauliukas issirideno: 4\n",
      "Jus laimejote, jusu kauliukas issirideno: 6\n",
      "Jus laimejote, jusu kauliukas issirideno: 3\n",
      "Jus laimejote, jusu kauliukas issirideno: 6\n",
      "Jus laimejote, jusu kauliukas issirideno: 3\n",
      "Jus laimejote, jusu kauliukas issirideno: 3\n",
      "Jus laimejote, jusu kauliukas issirideno: 1\n",
      "Jus laimejote, jusu kauliukas issirideno: 4\n",
      "Jus laimejote, jusu kauliukas issirideno: 6\n",
      "Jus laimejote, jusu kauliukas issirideno: 6\n",
      "Jus laimejote, jusu kauliukas issirideno: 3\n",
      "Jus pralaimejote, jusu kauliukas issirideno: 5\n"
     ]
    }
   ],
   "source": [
    "import random\n",
    "\n",
    "while True:\n",
    "    metimas = random.randint(1, 6)\n",
    "    if metimas == 5:\n",
    "        print(f'Jus pralaimejote, jusu kauliukas issirideno: {metimas}')\n",
    "        break\n",
    "    else:\n",
    "        print(f'Jus laimejote, jusu kauliukas issirideno: {metimas}') "
   ]
  },
  {
   "cell_type": "code",
   "execution_count": 672,
   "metadata": {},
   "outputs": [
    {
     "name": "stdout",
     "output_type": "stream",
     "text": [
      "     April 2023\n",
      "Mo Tu We Th Fr Sa Su\n",
      "                1  2\n",
      " 3  4  5  6  7  8  9\n",
      "10 11 12 13 14 15 16\n",
      "17 18 19 20 21 22 23\n",
      "24 25 26 27 28 29 30\n",
      "\n",
      "Savaitgalių skaičius šiame mėnesyje: 10\n"
     ]
    }
   ],
   "source": [
    "import calendar\n",
    "\n",
    "def spausdinti_menesio_kalendoriu_ir_savaitgaliu_skaiciu(metai, menesis):\n",
    "    print(calendar.month(metai, menesis))\n",
    "\n",
    "    _, menesio_ilgis = calendar.monthrange(metai, menesis)\n",
    "\n",
    "    savaitgaliu_skaicius = 0\n",
    "    for diena in range(1, menesio_ilgis + 1):\n",
    "        savaites_diena = calendar.weekday(metai, menesis, diena)\n",
    "        if savaites_diena == 5 or savaites_diena == 6:\n",
    "            savaitgaliu_skaicius += 1\n",
    "\n",
    "    print(f\"Savaitgalių skaičius šiame mėnesyje: {savaitgaliu_skaicius}\")\n",
    "\n",
    "# Pavyzdys su 2023-ųjų balandžio mėnesiu\n",
    "spausdinti_menesio_kalendoriu_ir_savaitgaliu_skaiciu(2023, 4)"
   ]
  },
  {
   "cell_type": "code",
   "execution_count": 709,
   "metadata": {},
   "outputs": [
    {
     "name": "stdout",
     "output_type": "stream",
     "text": [
      "     April 2023\n",
      "Mo Tu We Th Fr Sa Su\n",
      "                1  2\n",
      " 3  4  5  6  7  8  9\n",
      "10 11 12 13 14 15 16\n",
      "17 18 19 20 21 22 23\n",
      "24 25 26 27 28 29 30\n",
      "\n",
      "Savaitgalinių dienų yra \"10\" (įskaitant šiaštadienius ir sekmadienius)\n",
      "Gaila, bet šiandien nera savaitgalis\n"
     ]
    }
   ],
   "source": [
    "import calendar\n",
    "\n",
    "def print_calendar_with_weekends(year, month):\n",
    "    print(calendar.month(year, month))\n",
    "\n",
    "    num_days = calendar.monthrange(year, month)[1]\n",
    "\n",
    "    num_weekends = 0\n",
    "\n",
    "    for day in range(1, num_days + 1):\n",
    "        weekday = calendar.weekday(year, month, day)\n",
    "\n",
    "        if weekday == 5 or weekday == 6:\n",
    "            num_weekends += 1\n",
    "\n",
    "    print(f'Savaitgalinių dienų yra \"{num_weekends}\" (įskaitant šiaštadienius ir sekmadienius)')\n",
    "    if weekday == 5 or weekday == 6:\n",
    "        print(f\"Gaila, bet šiandien nera savaitgalis\")\n",
    "    else:\n",
    "        print(f'šiandien yra savaitgalis')\n",
    "\n",
    "print_calendar_with_weekends(2023, 4)\n"
   ]
  },
  {
   "cell_type": "code",
   "execution_count": 710,
   "metadata": {},
   "outputs": [
    {
     "name": "stdout",
     "output_type": "stream",
     "text": [
      "     April 2023\n",
      "Mo Tu We Th Fr Sa Su\n",
      "                1  2\n",
      " 3  4  5  6  7  8  9\n",
      "10 11 12 13 14 15 16\n",
      "17 18 19 20 21 22 23\n",
      "24 25 26 27 28 29 30\n",
      "\n",
      "Savaitgalio dienų skaičius nurodytame mėn.: 10\n"
     ]
    }
   ],
   "source": [
    "import calendar\n",
    "\n",
    "def savaitgaliu_skaiciuokle(metai, menesis):\n",
    "    # Spausdiname kalendorių pasirinktam mėnesiui ir metams\n",
    "    kalendorius = calendar.monthcalendar(metai, menesis)\n",
    "    print(calendar.month(metai, menesis))\n",
    "\n",
    "    # Suskaičiuojame savaitgalio dienas\n",
    "    savaitgaliu_skaicius = 0\n",
    "    for savaitgalis in kalendorius:\n",
    "        if savaitgalis[calendar.SATURDAY] != 0:\n",
    "            savaitgaliu_skaicius += 1\n",
    "        if savaitgalis[calendar.SUNDAY] != 0:\n",
    "            savaitgaliu_skaicius += 1\n",
    "\n",
    "    print(f\"Savaitgalio dienų skaičius nurodytame mėn.: {savaitgaliu_skaicius}\")\n",
    "\n",
    "savaitgaliu_skaiciuokle(2023, 4)"
   ]
  },
  {
   "cell_type": "code",
   "execution_count": 712,
   "metadata": {},
   "outputs": [
    {
     "name": "stdout",
     "output_type": "stream",
     "text": [
      "visi savaitgaliai: 10\n",
      "sestadieniai: 5\n",
      "sekmadieniai: 5\n"
     ]
    }
   ],
   "source": [
    "import calendar\n",
    "\n",
    "balandis = calendar.Calendar()\n",
    "savaites = balandis.monthdayscalendar(year= 2023, month= 4)\n",
    "#print(savaites)\n",
    "\n",
    "savaitgaliai = 0\n",
    "sekmadieniai = 0\n",
    "sestadieniai = 0\n",
    "\n",
    "\n",
    "for savaite in savaites:\n",
    "    if savaite[5] > 0:\n",
    "        savaitgaliai += 1\n",
    "        sestadieniai += 1\n",
    "    if savaite[6] > 0:\n",
    "        savaitgaliai += 1\n",
    "        sekmadieniai += 1\n",
    "print(f\"visi savaitgaliai: {savaitgaliai}\")\n",
    "print(f\"sestadieniai: {sestadieniai}\")\n",
    "print(f\"sekmadieniai: {sekmadieniai}\")"
   ]
  }
 ],
 "metadata": {
  "kernelspec": {
   "display_name": "venv",
   "language": "python",
   "name": "python3"
  },
  "language_info": {
   "codemirror_mode": {
    "name": "ipython",
    "version": 3
   },
   "file_extension": ".py",
   "mimetype": "text/x-python",
   "name": "python",
   "nbconvert_exporter": "python",
   "pygments_lexer": "ipython3",
   "version": "3.11.2"
  },
  "orig_nbformat": 4
 },
 "nbformat": 4,
 "nbformat_minor": 2
}
