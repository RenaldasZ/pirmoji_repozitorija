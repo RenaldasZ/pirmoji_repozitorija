{
 "cells": [
  {
   "cell_type": "code",
   "execution_count": 31,
   "metadata": {},
   "outputs": [
    {
     "name": "stdout",
     "output_type": "stream",
     "text": [
      "1. pirmas\n",
      "2. antras\n",
      "3. trecias\n",
      "antrasd\n",
      "sfd\n",
      "sa\n",
      "f\n",
      "sfdsd\n",
      "f\n",
      "asdf\n",
      "asdff\n",
      "asdfdf\n"
     ]
    }
   ],
   "source": [
    "with open(\"jokes.txt\", \"r\") as failas:\n",
    "    jokes = failas.read()\n",
    "print(jokes)"
   ]
  },
  {
   "cell_type": "code",
   "execution_count": 56,
   "metadata": {},
   "outputs": [
    {
     "name": "stdout",
     "output_type": "stream",
     "text": [
      "\n",
      "\n",
      "    1. pirmas\n",
      "\n",
      "2. antras\n",
      "\n",
      "3. trecias\n",
      "\n",
      "antrasd\n",
      "\n",
      "sfd\n",
      "\n",
      "\n",
      "\n",
      "sa\n",
      "\n",
      "f\n",
      "\n",
      "sfdsd\n",
      "\n",
      "f\n",
      "\n",
      "asdf\n",
      "\n",
      "asdff\n",
      "\n",
      "asdfdf\n"
     ]
    }
   ],
   "source": [
    "with open('jokes.txt', 'r') as failas:\n",
    "    eilute = failas.readline()\n",
    "    while eilute != '':\n",
    "        print(eilute)\n",
    "        eilute = failas.readline()"
   ]
  },
  {
   "cell_type": "code",
   "execution_count": 57,
   "metadata": {},
   "outputs": [
    {
     "name": "stdout",
     "output_type": "stream",
     "text": [
      "\n",
      "   1\n",
      ". an\n",
      ". tr\n",
      "ntra\n",
      "fd\n",
      "\n",
      "\n",
      "a\n",
      "\n",
      "\n",
      "\n",
      "fdsd\n",
      "\n",
      "\n",
      "sdf\n",
      "\n",
      "sdff\n",
      "sdfd\n"
     ]
    }
   ],
   "source": [
    "with open('jokes.txt', 'r') as failas:\n",
    "    eilutes = failas.readlines()\n",
    "    for eilute in eilutes:\n",
    "        print(eilute[1:5])"
   ]
  },
  {
   "cell_type": "code",
   "execution_count": 58,
   "metadata": {},
   "outputs": [
    {
     "name": "stdout",
     "output_type": "stream",
     "text": [
      "\n",
      "    1. pi!!!rmas\n",
      "2. an!!!tras\n",
      "3. tr!!!ecias\n",
      "antr!!!asd\n",
      "sfd\n",
      "\n",
      "s!!!a\n",
      "f\n",
      "sfdsd\n",
      "!!!f\n",
      "asdf\n",
      "asd!!!ff\n",
      "asdfdf!!!"
     ]
    }
   ],
   "source": [
    "with open('jokes.txt', 'r') as f:\n",
    "    while True:\n",
    "        dalis = f.read(10)\n",
    "        if not dalis:\n",
    "            break\n",
    "        print(dalis, end=\"!!!\")"
   ]
  },
  {
   "cell_type": "code",
   "execution_count": 59,
   "metadata": {},
   "outputs": [
    {
     "name": "stdout",
     "output_type": "stream",
     "text": [
      "0\n"
     ]
    }
   ],
   "source": [
    "with open(\"jokes.txt\", \"r\") as f:\n",
    "    pozicija = f.tell()  # Gauti dabartinę poziciją faile\n",
    "    print(pozicija)"
   ]
  },
  {
   "cell_type": "code",
   "execution_count": 60,
   "metadata": {},
   "outputs": [],
   "source": [
    "with open(\"rezultatai.txt\", \"w\") as failas:\n",
    "    failas.write(\"Labas, pasauli!\")"
   ]
  },
  {
   "cell_type": "code",
   "execution_count": 61,
   "metadata": {},
   "outputs": [],
   "source": [
    "eilutes = [\"Labas, pasauli!\\n\", \"Tai mano pirmasis failas Python kalboje.\\n\"]\n",
    "\n",
    "with open(\"rezultatai.txt\", \"w\") as failas:\n",
    "    failas.writelines(eilutes)"
   ]
  },
  {
   "cell_type": "code",
   "execution_count": 3,
   "metadata": {},
   "outputs": [
    {
     "name": "stdout",
     "output_type": "stream",
     "text": [
      "1.ASDASDADaasdasdASDASD\n"
     ]
    }
   ],
   "source": [
    "with open(\"pakeitimai.txt\", \"r\") as f:\n",
    "    line = f.readline().strip()\n",
    "    swapped = line.swapcase()\n",
    "    print(swapped)"
   ]
  },
  {
   "cell_type": "code",
   "execution_count": 6,
   "metadata": {},
   "outputs": [],
   "source": [
    "with open(\"skaiciai.txt\", \"w\") as f:\n",
    "    for i in range(1, 101):\n",
    "        f.write(str(i) + \"\\n\")"
   ]
  },
  {
   "cell_type": "code",
   "execution_count": 82,
   "metadata": {},
   "outputs": [
    {
     "name": "stdout",
     "output_type": "stream",
     "text": [
      "s\n",
      "gyvenu siauliuose\n",
      "siandien grazus oras\n",
      "\n"
     ]
    }
   ],
   "source": [
    "with open(\"textas.txt\", \"r\") as failas:\n",
    "    failas.seek(0, 2)  # Pereikite į failo pabaigą\n",
    "    failo_ilgis = failas.tell()  # Gauti failo ilgį\n",
    "    vidurys = failo_ilgis // 2  # Rasti failo vidurį\n",
    "\n",
    "    failas.seek(vidurys)  # Nustatykite žymeklį ant vidurio\n",
    "    likusi_dalis = failas.read()  # Perskaitykite likusią dalį\n",
    "    print(likusi_dalis)"
   ]
  },
  {
   "cell_type": "code",
   "execution_count": 65,
   "metadata": {},
   "outputs": [],
   "source": [
    "with open(\"textas.txt\", \"a\") as failas:\n",
    "    failas.write(\"\\nRenaldas Zvega\")"
   ]
  },
  {
   "cell_type": "code",
   "execution_count": 75,
   "metadata": {},
   "outputs": [
    {
     "name": "stdout",
     "output_type": "stream",
     "text": [
      "Vakare vėjas šnypščia medžius.\n",
      "\n",
      "Vėjas nerimsta, šnypščia ir švilpia.\n"
     ]
    }
   ],
   "source": [
    "with open(\"eilutes.txt\", \"r\", encoding=\"utf-8\") as file:\n",
    "    for line in file:\n",
    "        if \"vėjas\" in line.lower():\n",
    "            print(line)"
   ]
  }
 ],
 "metadata": {
  "kernelspec": {
   "display_name": "venv",
   "language": "python",
   "name": "python3"
  },
  "language_info": {
   "codemirror_mode": {
    "name": "ipython",
    "version": 3
   },
   "file_extension": ".py",
   "mimetype": "text/x-python",
   "name": "python",
   "nbconvert_exporter": "python",
   "pygments_lexer": "ipython3",
   "version": "3.11.2"
  },
  "orig_nbformat": 4
 },
 "nbformat": 4,
 "nbformat_minor": 2
}
