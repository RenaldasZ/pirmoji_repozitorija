{
 "cells": [
  {
   "attachments": {},
   "cell_type": "markdown",
   "metadata": {},
   "source": [
    "## Simbolių eilutės metodai"
   ]
  },
  {
   "cell_type": "code",
   "execution_count": 6,
   "metadata": {},
   "outputs": [
    {
     "name": "stdout",
     "output_type": "stream",
     "text": [
      "sveiki\n"
     ]
    }
   ],
   "source": [
    "print(\"sveiki\")"
   ]
  },
  {
   "cell_type": "code",
   "execution_count": 7,
   "metadata": {},
   "outputs": [
    {
     "name": "stdout",
     "output_type": "stream",
     "text": [
      "SVEIKI MENTORIAU!\n"
     ]
    }
   ],
   "source": [
    "sakinys = \"sveiki mentoriau!\"\n",
    "sakinys_didziosiom = sakinys.upper()\n",
    "print(sakinys_didziosiom)"
   ]
  },
  {
   "cell_type": "code",
   "execution_count": 8,
   "metadata": {},
   "outputs": [
    {
     "name": "stdout",
     "output_type": "stream",
     "text": [
      "sveiki mentoriau!\n"
     ]
    }
   ],
   "source": [
    "sakinys_didziosiom = sakinys.lower()\n",
    "print(sakinys_didziosiom)"
   ]
  },
  {
   "cell_type": "code",
   "execution_count": 9,
   "metadata": {},
   "outputs": [
    {
     "name": "stdout",
     "output_type": "stream",
     "text": [
      "7\n"
     ]
    }
   ],
   "source": [
    "print(sakinys.find('men'))"
   ]
  },
  {
   "cell_type": "code",
   "execution_count": 10,
   "metadata": {},
   "outputs": [
    {
     "name": "stdout",
     "output_type": "stream",
     "text": [
      "3\n"
     ]
    }
   ],
   "source": [
    "print(sakinys.find('i'))"
   ]
  },
  {
   "cell_type": "code",
   "execution_count": 11,
   "metadata": {},
   "outputs": [
    {
     "name": "stdout",
     "output_type": "stream",
     "text": [
      "radau ties 4\n"
     ]
    }
   ],
   "source": [
    "radinys = sakinys.find('i')\n",
    "if radinys >= 0:\n",
    "    print('radau ties', radinys+1)\n",
    "else:\n",
    "    print('neradau')"
   ]
  },
  {
   "cell_type": "code",
   "execution_count": 12,
   "metadata": {},
   "outputs": [
    {
     "name": "stdout",
     "output_type": "stream",
     "text": [
      "hello mentoriau!\n"
     ]
    }
   ],
   "source": [
    "pakeistas = sakinys.replace('sveiki', 'hello')\n",
    "print(pakeistas)"
   ]
  },
  {
   "cell_type": "code",
   "execution_count": 13,
   "metadata": {},
   "outputs": [
    {
     "name": "stdout",
     "output_type": "stream",
     "text": [
      "Obuolys | Apelsinas | Kriaušė\n"
     ]
    }
   ],
   "source": [
    "vaisiai = ['Obuolys', 'Apelsinas', 'Kriaušė']\n",
    "isvardinti_vaisiai = \" | \".join(vaisiai)\n",
    "print(isvardinti_vaisiai)"
   ]
  },
  {
   "cell_type": "code",
   "execution_count": 14,
   "metadata": {},
   "outputs": [
    {
     "name": "stdout",
     "output_type": "stream",
     "text": [
      "['sveiki', 'mentoriau!']\n"
     ]
    }
   ],
   "source": [
    "print(sakinys.split())"
   ]
  },
  {
   "attachments": {},
   "cell_type": "markdown",
   "metadata": {},
   "source": [
    "## Teksto formatavimas"
   ]
  },
  {
   "cell_type": "code",
   "execution_count": 15,
   "metadata": {},
   "outputs": [
    {
     "name": "stdout",
     "output_type": "stream",
     "text": [
      "Sveiki, aš esu Renaldas, man yra 32 metų\n"
     ]
    }
   ],
   "source": [
    "vardas = \"Renaldas\"\n",
    "amzius = 32\n",
    "tekstas = \"Sveiki, aš \" + \\\n",
    "    \"esu \" + vardas + \\\n",
    "    \", man yra \" + str(amzius) + ' metų'\n",
    "print(tekstas)"
   ]
  },
  {
   "cell_type": "code",
   "execution_count": 16,
   "metadata": {},
   "outputs": [
    {
     "name": "stdout",
     "output_type": "stream",
     "text": [
      "Sveiki, aš esu Renaldas ir man yra 32 metų\n"
     ]
    }
   ],
   "source": [
    "tekstas = \"Sveiki, aš esu %s ir man yra %d metų\" \\\n",
    "    % (vardas, amzius)\n",
    "print(tekstas)"
   ]
  },
  {
   "cell_type": "code",
   "execution_count": 17,
   "metadata": {},
   "outputs": [
    {
     "name": "stdout",
     "output_type": "stream",
     "text": [
      "sveiki, aš esu Renaldas, man yra 32 metų\n"
     ]
    }
   ],
   "source": [
    "tekstas = \"sveiki, aš esu {}, man yra {} metų\".format(\n",
    "    vardas, amzius\n",
    ")\n",
    "print(tekstas)"
   ]
  },
  {
   "cell_type": "code",
   "execution_count": 18,
   "metadata": {},
   "outputs": [
    {
     "name": "stdout",
     "output_type": "stream",
     "text": [
      "sveiki, aš esu Renaldas, man yra 32 metų\n"
     ]
    }
   ],
   "source": [
    "tekstas = f\"sveiki, aš esu {vardas}, man yra {amzius} metų\"\n",
    "print(tekstas)"
   ]
  },
  {
   "cell_type": "code",
   "execution_count": 19,
   "metadata": {},
   "outputs": [
    {
     "name": "stdout",
     "output_type": "stream",
     "text": [
      "kaina: 99.95\n"
     ]
    }
   ],
   "source": [
    "kaina = 99.9455\n",
    "print(f\"kaina: {kaina:.2f}\")"
   ]
  },
  {
   "cell_type": "code",
   "execution_count": 20,
   "metadata": {},
   "outputs": [
    {
     "name": "stdout",
     "output_type": "stream",
     "text": [
      "kaina: 0000000100\n"
     ]
    }
   ],
   "source": [
    "print(f\"kaina: {kaina:010.0f}\")"
   ]
  },
  {
   "cell_type": "code",
   "execution_count": 21,
   "metadata": {},
   "outputs": [
    {
     "name": "stdout",
     "output_type": "stream",
     "text": [
      "Renaldas, Kriaušė, Bananas; Obuolys, 99.9455, Bananas\n"
     ]
    }
   ],
   "source": [
    "print(vardas, \"Kriaušė\", \"Bananas\", sep=\", \", end=\"; \")\n",
    "print(\"Obuolys\", kaina, \"Bananas\", sep=\", \")"
   ]
  }
 ],
 "metadata": {
  "kernelspec": {
   "display_name": "venv",
   "language": "python",
   "name": "python3"
  },
  "language_info": {
   "codemirror_mode": {
    "name": "ipython",
    "version": 3
   },
   "file_extension": ".py",
   "mimetype": "text/x-python",
   "name": "python",
   "nbconvert_exporter": "python",
   "pygments_lexer": "ipython3",
   "version": "3.11.2"
  },
  "orig_nbformat": 4
 },
 "nbformat": 4,
 "nbformat_minor": 2
}
