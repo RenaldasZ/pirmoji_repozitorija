{
 "cells": [
  {
   "cell_type": "code",
   "execution_count": null,
   "metadata": {},
   "outputs": [],
   "source": [
    "# Dokumentavimas ir anotacijos\n",
    "# yra svarbi dalis programavimo procese,\n",
    "# kadangi tai padeda programuotojams lengviau suprasti,\n",
    "# ką daro kodo eilutės, funkcijos arba moduliai.\n",
    "\n",
    "# Dokumentavimas yra procesas, kai programuotojas prideda komentarus prie kodo,\n",
    "# kad paaiškintų, ką jis daro, kaip jis veikia ir kaip jį naudoti.\n",
    "# Dokumentacija yra kaip atsakymas į klausimus,\n",
    "# kaip „Kas čia dedasi?“, „Kam šita funkcija reikalinga?“, ir pan.\n",
    "\n",
    "# Anotacija yra papildoma informacija apie kintamųjų tipus,\n",
    "# funkcijų argumentus ir grąžinimo reikšmes. Tai yra svarbu,\n",
    "# kadangi ji padeda užtikrinti, kad kodo vykdymas būtų sklandus ir teisingas.\n",
    "\n",
    "# Python yra kalba, kuri yra gerai žinoma savo aiškiu ir tvarkingu kodu.\n",
    "# Štai kaip galima dokumentuoti ir anotuoti Python kodo eilutę:\n",
    "\n",
    "\n",
    "def add_numbers(a: int, b: int) -> int:\n",
    "    \"\"\"\n",
    "    This function takes two integer arguments and returns their sum.\n",
    "    \"\"\"\n",
    "    return a + b\n",
    "\n",
    "# Ši funkcija prideda du skaičius ir grąžina jų sumą.\n",
    "# Kodo eilutės anotacijos nurodo, kad funkcija priima du integer tipo argumentus\n",
    "# ir grąžina integer tipo reikšmę. Komentarai virš funkcijos padeda paaiškinti,\n",
    "# ką funkcija daro ir kaip ją naudoti."
   ]
  }
 ],
 "metadata": {
  "language_info": {
   "name": "python"
  },
  "orig_nbformat": 4
 },
 "nbformat": 4,
 "nbformat_minor": 2
}
