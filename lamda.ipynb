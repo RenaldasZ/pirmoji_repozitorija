{
 "cells": [
  {
   "attachments": {},
   "cell_type": "markdown",
   "metadata": {},
   "source": [
    "### Pirma užduotis\n",
    "###### Sukurkite programą, kuri naudoja lambda, map() ir filter() funkcijas, kad atrinktų sąrašo elementus, didesnius už 10, ir padidintų juos dvigubai. Palyginkite šį rezultatą su tuo, ką gautumėte naudodami \"list comprehension\"."
   ]
  },
  {
   "cell_type": "code",
   "execution_count": 51,
   "metadata": {},
   "outputs": [
    {
     "name": "stdout",
     "output_type": "stream",
     "text": [
      "[24, 36, 30]\n",
      "[24, 36, 30]\n"
     ]
    }
   ],
   "source": [
    "# sarasas = [1, 2, 3, 4, 5]\n",
    "# rezultatas = map(lambda x: x ** 2, sarasas)\n",
    "# print(list(rezultatas))  # [1, 4, 9, 16, 25]\n",
    "\n",
    "# def kvadratas(x):\n",
    "#     return x ** 2\n",
    "\n",
    "# rezultatas = map(kvadratas, sarasas)\n",
    "# print(list(rezultatas))  # [1, 4, 9, 16, 25]\n",
    "\n",
    "# sarasas = [1, 2, 3, 4, 5]\n",
    "# print(list(rezultatas))  # [2, 4]\n",
    "\n",
    "sarasas = [5, 12, 7, 18, 4, 15]\n",
    "\n",
    "rezultatas = map(lambda x: x * 2, filter(lambda x: x > 10, sarasas))\n",
    "print(list(rezultatas)) \n",
    "\n",
    "rezultatas2 = [x * 2 for x in sarasas if x > 10]\n",
    "print(rezultatas2)\n",
    "\n",
    "\n",
    "\n",
    "\n",
    "# rezultatas = map(lambda x: x ** 2, sarasas)\n",
    "# print(list(rezultatas))  # [1, 4, 9, 16, 25]\n",
    "\n",
    "\n",
    "# sarasas = [5, 12, 7, 18, 4, 15]\n",
    "\n",
    "# # Atrinkti ir padidinti dvigubai skaičius, didesnius už 10\n",
    "# result = map(lambda x: x * 2, filter(lambda x: x > 10, sarasas))\n",
    "# print(list(result))  # [24, 36, 30]\n",
    "\n",
    "# # Su paprastomis funkcijomis ir `for` ciklais\n",
    "# result = [x * 2 for x in sarasas if x > 10]\n",
    "# print(result)  # [24, 36, 30]"
   ]
  },
  {
   "attachments": {},
   "cell_type": "markdown",
   "metadata": {},
   "source": [
    "### Antra užduotis\n",
    "###### Parašykite programą, kuri naudoja reduce() funkciją, kad rastų sąrašo elementų sandaugą."
   ]
  },
  {
   "cell_type": "code",
   "execution_count": 60,
   "metadata": {},
   "outputs": [
    {
     "name": "stdout",
     "output_type": "stream",
     "text": [
      "479001600\n"
     ]
    }
   ],
   "source": [
    "from functools import reduce\n",
    "import operator\n",
    "\n",
    "sarasas2 = [1, 2, 3, 4, 5, 6, 7, 8, 9, 10, 11, 12]\n",
    "\n",
    "rezultatas = reduce(lambda x, y: x * y, sarasas2)\n",
    "print(rezultatas)\n",
    "\n"
   ]
  },
  {
   "attachments": {},
   "cell_type": "markdown",
   "metadata": {},
   "source": [
    "### Trečia užduotis\n",
    "###### Naudodamiesi statistics moduliu, apskaičiuokite ir išveskite sąrašo elementų sumą, vidurkį, medianą, mažiausią ir didžiausią elementą."
   ]
  },
  {
   "cell_type": "code",
   "execution_count": 64,
   "metadata": {},
   "outputs": [
    {
     "name": "stdout",
     "output_type": "stream",
     "text": [
      "78\n",
      "1\n",
      "12\n",
      "6.5\n",
      "6.5\n"
     ]
    }
   ],
   "source": [
    "import statistics\n",
    "\n",
    "print(sum(sarasas2))\n",
    "print(min(sarasas2))\n",
    "print(max(sarasas2)) \n",
    "print(statistics.mean(sarasas2))\n",
    "print(statistics.median(sarasas2))"
   ]
  },
  {
   "attachments": {},
   "cell_type": "markdown",
   "metadata": {},
   "source": [
    "### Ketvirta užduotis\n",
    "###### Sukurkite programą, kuri naudoja sort() arba sorted() funkcijas, kad rūšiuotų sąrašą skaičių pagal jų liekanas dalinant iš 3 (atsižvelgiant į key parametrą)."
   ]
  },
  {
   "cell_type": "code",
   "execution_count": 72,
   "metadata": {},
   "outputs": [
    {
     "name": "stdout",
     "output_type": "stream",
     "text": [
      "[3, 6, 9, 12, 1, 4, 7, 10, 2, 5, 8, 11]\n"
     ]
    }
   ],
   "source": [
    "result = sorted(sarasas, key=lambda x: x % 3)\n",
    "print(result) "
   ]
  },
  {
   "attachments": {},
   "cell_type": "markdown",
   "metadata": {},
   "source": [
    "### Penkta užduotis\n",
    "###### Sukurkite programą, kuri naudoja lambda, filter() ir reduce() funkcijas, kad apskaičiuotų vidurkį tų sąrašo skaičių, kurie yra lyginiai. Palyginkite šį rezultatą su tuo, ką gautumėte naudodami \"list comprehension\"."
   ]
  },
  {
   "cell_type": "code",
   "execution_count": 75,
   "metadata": {},
   "outputs": [
    {
     "name": "stdout",
     "output_type": "stream",
     "text": [
      "Vidurkis (naudojant lambda, filter() ir reduce() funkcijas): 7.0\n",
      "Vidurkis (naudojant list comprehension): 7.0\n"
     ]
    }
   ],
   "source": [
    "filtered = list(filter(lambda x: x % 2 == 0, sarasas2))\n",
    "sum = reduce(lambda x, y: x + y, filtered)\n",
    "average = sum / len(filtered)\n",
    "print(\"Vidurkis (naudojant lambda, filter() ir reduce() funkcijas):\", average)\n",
    "\n",
    "filtered = [x for x in sarasas2 if x % 2 == 0]\n",
    "average = sum / len(filtered)\n",
    "print(\"Vidurkis (naudojant list comprehension):\", average)"
   ]
  }
 ],
 "metadata": {
  "kernelspec": {
   "display_name": "venv",
   "language": "python",
   "name": "python3"
  },
  "language_info": {
   "codemirror_mode": {
    "name": "ipython",
    "version": 3
   },
   "file_extension": ".py",
   "mimetype": "text/x-python",
   "name": "python",
   "nbconvert_exporter": "python",
   "pygments_lexer": "ipython3",
   "version": "3.11.2"
  },
  "orig_nbformat": 4
 },
 "nbformat": 4,
 "nbformat_minor": 2
}
