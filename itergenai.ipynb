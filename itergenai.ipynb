{
 "cells": [
  {
   "attachments": {},
   "cell_type": "markdown",
   "metadata": {},
   "source": [
    "### Pirma užduotis\n",
    "###### Sukurkite iteratorių, kuris iteruoja per pateiktą sąrašą ir atspausdina visus lyginius skaičius."
   ]
  },
  {
   "cell_type": "code",
   "execution_count": 74,
   "metadata": {},
   "outputs": [
    {
     "name": "stdout",
     "output_type": "stream",
     "text": [
      "2\n",
      "4\n",
      "6\n",
      "8\n",
      "10\n"
     ]
    }
   ],
   "source": [
    "sarasas = [1, 2, 3, 4, 5, 6, 7, 8, 9, 10]\n",
    "\n",
    "# pirmas pavyzdys naudojant 'for if'\n",
    "for skaicius in sarasas:\n",
    "    if skaicius % 2 == 0:\n",
    "        print(skaicius)"
   ]
  },
  {
   "cell_type": "code",
   "execution_count": 88,
   "metadata": {},
   "outputs": [
    {
     "name": "stdout",
     "output_type": "stream",
     "text": [
      "2\n",
      "4\n",
      "6\n",
      "8\n",
      "10\n",
      "lyginiu skaiciu saraso pabaiga\n"
     ]
    }
   ],
   "source": [
    "# antras pavyzdys naudojant while cikla\n",
    "sarasas2 = [1, 2, 3, 4, 5, 6, 7, 8, 9, 10]\n",
    "iteratorius = iter(sarasas2)\n",
    "\n",
    "while True:\n",
    "    try:\n",
    "        elementas = next(iteratorius)\n",
    "    except StopIteration:\n",
    "        print(\"lyginiu skaiciu saraso pabaiga\")\n",
    "        break\n",
    "    else:\n",
    "        if elementas % 2 == 0:\n",
    "            print(elementas)"
   ]
  },
  {
   "attachments": {},
   "cell_type": "markdown",
   "metadata": {},
   "source": [
    "### Antra užduotis\n",
    "###### Iteruokite per žodyną, kurio raktai yra raidės, o reikšmės yra skaičiai, ir atspausdinkite tik tas raides, kurių reikšmės yra didesnės nei 4."
   ]
  },
  {
   "cell_type": "code",
   "execution_count": 76,
   "metadata": {},
   "outputs": [
    {
     "name": "stdout",
     "output_type": "stream",
     "text": [
      "D 8\n",
      "E 15\n"
     ]
    }
   ],
   "source": [
    "\n",
    "mano_zodynas = {\"A\": 1, \"B\": 2, \"C\": 3, \"D\": 8, \"E\": 15,}\n",
    "\n",
    "iteratorius = iter(mano_zodynas.items())\n",
    "\n",
    "while True:\n",
    "    try:\n",
    "        raktas, reiksme = next(iteratorius)\n",
    "        if reiksme > 4:\n",
    "            print(raktas, reiksme)\n",
    "    except StopIteration:\n",
    "        break"
   ]
  },
  {
   "attachments": {},
   "cell_type": "markdown",
   "metadata": {},
   "source": [
    "### Trečia užduotis\n",
    "###### Parašykite programą, kuri naudoja generatorių, generuojantį kiekvieno žodžio ilgį iš teksto."
   ]
  },
  {
   "cell_type": "code",
   "execution_count": 77,
   "metadata": {},
   "outputs": [
    {
     "name": "stdout",
     "output_type": "stream",
     "text": [
      "8\n",
      "3\n",
      "6\n",
      "9\n",
      "6\n"
     ]
    }
   ],
   "source": [
    "# # pirmas pavyzdys\n",
    "# text = \"Šiandien yra gražus pavasario diena.\"\n",
    "# length_generator = (len(word) for word in text.split())\n",
    "\n",
    "# for i, length in enumerate(length_generator, start=1):\n",
    "#     print(f\"{i}. zodis turi {length} raides\")\n",
    "\n",
    "\n",
    "\n",
    "\n",
    "\n",
    "\n",
    "# # antras pavyzdys\n",
    "# def word_length_generator(text):\n",
    "#     for word in text.split():\n",
    "#         yield len(word)\n",
    "\n",
    "# text = \"Šiandien yra gražus pavasario diena.\"\n",
    "# for length in word_length_generator(text):\n",
    "#     print(length)\n",
    "\n",
    "\n",
    "\n",
    "\n",
    "# trecias pavyzdys\n",
    "text = \"Šiandien yra gražus pavasario diena.\"\n",
    "length_generator = map(lambda word: len(word), text.split())\n",
    "\n",
    "for length in length_generator:\n",
    "    print(length)"
   ]
  },
  {
   "attachments": {},
   "cell_type": "markdown",
   "metadata": {},
   "source": [
    "### Ketvirta užduotis\n",
    "###### Sukurkite generatorių, kuris generuoja visus pirminius skaičius iki nurodyto skaičiaus n."
   ]
  },
  {
   "cell_type": "code",
   "execution_count": 78,
   "metadata": {},
   "outputs": [],
   "source": [
    "# def ar_pirminis(skaicius):\n",
    "#     if skaicius < 2:\n",
    "#         return False\n",
    "#     for i in range(2, skaicius):\n",
    "#         if skaicius % i == 0:\n",
    "#             return False\n",
    "#     return True\n",
    "\n",
    "# def pirminiai_iki_n(n):\n",
    "#     for skaicius in range(2, n + 1):\n",
    "#         if ar_pirminis(skaicius):\n",
    "#             yield skaicius\n",
    "\n",
    "# pirminiai_generatorius = pirminiai_iki_n(20)\n",
    "\n",
    "# for skaicius in pirminiai_generatorius:\n",
    "#     print(skaicius)"
   ]
  },
  {
   "cell_type": "code",
   "execution_count": 83,
   "metadata": {},
   "outputs": [
    {
     "name": "stdout",
     "output_type": "stream",
     "text": [
      "[2, 3, False, 5, False, 7, False, False, False, 11, False, 13, False, False, False, 17, False, 19, False]\n"
     ]
    }
   ],
   "source": [
    "def generuotas_pirminis(n):\n",
    "    pirminiai = []\n",
    "    for skaicius in range(2, n + 1):\n",
    "        yra_pirminis = True\n",
    "        for i in range(2, int(skaicius ** 0.5) + 1):\n",
    "            if skaicius % i == 0:\n",
    "                skaicius = False\n",
    "                break\n",
    "        if yra_pirminis:\n",
    "                pirminiai.append(skaicius)\n",
    "    return pirminiai\n",
    "\n",
    "pirminiai = generuotas_pirminis(20)\n",
    "print(pirminiai)"
   ]
  },
  {
   "cell_type": "code",
   "execution_count": 86,
   "metadata": {},
   "outputs": [
    {
     "name": "stdout",
     "output_type": "stream",
     "text": [
      "[2, 3, 5, 7, 11, 13, 17, 19, 23, 29]\n"
     ]
    }
   ],
   "source": [
    "def generate_primes(n):\n",
    "    pirminiai = [num for num in range(2, n + 1) if all(num % i != 0 for i in range(2, int(num ** 0.5) + 1))]\n",
    "    return pirminiai\n",
    "\n",
    "primes = generate_primes(30)\n",
    "print(primes)\n",
    "\n"
   ]
  }
 ],
 "metadata": {
  "kernelspec": {
   "display_name": "venv",
   "language": "python",
   "name": "python3"
  },
  "language_info": {
   "codemirror_mode": {
    "name": "ipython",
    "version": 3
   },
   "file_extension": ".py",
   "mimetype": "text/x-python",
   "name": "python",
   "nbconvert_exporter": "python",
   "pygments_lexer": "ipython3",
   "version": "3.11.2"
  },
  "orig_nbformat": 4
 },
 "nbformat": 4,
 "nbformat_minor": 2
}
