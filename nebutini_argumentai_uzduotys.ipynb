{
 "cells": [
  {
   "cell_type": "code",
   "execution_count": 9,
   "metadata": {},
   "outputs": [
    {
     "name": "stdout",
     "output_type": "stream",
     "text": [
      "78.5\n",
      "78.53975\n"
     ]
    }
   ],
   "source": [
    "def apskritimo_plotas(spindulys, pi=3.14):\n",
    "    plotas = pi * spindulys**2\n",
    "    return plotas\n",
    "\n",
    "plotas = apskritimo_plotas(5)  # naudojama numatytoji pi reikšmė (3.14)\n",
    "print(plotas)  # spausdinama: 78.5\n",
    "\n",
    "plotas = apskritimo_plotas(5, 3.14159)  # naudojama nurodyta pi reikšmė\n",
    "print(plotas)  # spausdinama: 78.53975\n"
   ]
  },
  {
   "cell_type": "code",
   "execution_count": 11,
   "metadata": {},
   "outputs": [
    {
     "name": "stdout",
     "output_type": "stream",
     "text": [
      "Kelionės trukmė: 5 val.\n",
      "Greitis: 80 km/h\n",
      "Vidutinis kuro sąnaudų rodiklis: 7 l/100km\n",
      "Kuro kaina: 1.2 EUR/l\n",
      "Nuvažiuotas atstumas: 400 km\n",
      "Bendros kelionės kuro sąnaudos: 28.0 l\n",
      "Bendros kelionės išlaidos kuras: 33.6 EUR\n"
     ]
    }
   ],
   "source": [
    "def keliones_informacija(keliones_trukme, greitis, vartojimas=7, kuro_kaina=1.2):\n",
    "    atstumas = keliones_trukme * greitis\n",
    "    sanaudos = atstumas * vartojimas / 100\n",
    "    islaidos = sanaudos * kuro_kaina\n",
    "    return {'Nuvažiuotas atstumas': atstumas, 'Bendros kelionės kuro sąnaudos': sanaudos, 'Bendros kelionės išlaidos kuras': islaidos}\n",
    "\n",
    "keliones_trukme = 5 # hours\n",
    "greitis = 80 # km/h\n",
    "vartojimas = 7 # l/100km\n",
    "kuro_kaina = 1.2 # EUR/l\n",
    "\n",
    "informacija = keliones_informacija(keliones_trukme, greitis, vartojimas, kuro_kaina)\n",
    "\n",
    "print(f\"Kelionės trukmė: {keliones_trukme} val.\")\n",
    "print(f\"Greitis: {greitis} km/h\")\n",
    "print(f\"Vidutinis kuro sąnaudų rodiklis: {vartojimas} l/100km\")\n",
    "print(f\"Kuro kaina: {kuro_kaina} EUR/l\")\n",
    "print(f\"Nuvažiuotas atstumas: {informacija['Nuvažiuotas atstumas']} km\")\n",
    "print(f\"Bendros kelionės kuro sąnaudos: {informacija['Bendros kelionės kuro sąnaudos']} l\")\n",
    "print(f\"Bendros kelionės išlaidos kuras: {informacija['Bendros kelionės išlaidos kuras']} EUR\")\n"
   ]
  }
 ],
 "metadata": {
  "kernelspec": {
   "display_name": "venv",
   "language": "python",
   "name": "python3"
  },
  "language_info": {
   "codemirror_mode": {
    "name": "ipython",
    "version": 3
   },
   "file_extension": ".py",
   "mimetype": "text/x-python",
   "name": "python",
   "nbconvert_exporter": "python",
   "pygments_lexer": "ipython3",
   "version": "3.11.2"
  },
  "orig_nbformat": 4
 },
 "nbformat": 4,
 "nbformat_minor": 2
}
