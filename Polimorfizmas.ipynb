{
 "cells": [
  {
   "cell_type": "code",
   "execution_count": 18,
   "metadata": {},
   "outputs": [],
   "source": [
    "class Darbuotojas:\n",
    "    def __init__(self, vardas, pavarde, atlyginimas):\n",
    "        self.vardas = vardas\n",
    "        self.pavarde = pavarde\n",
    "        self.atlyginimas = atlyginimas\n",
    "    \n",
    "    def atspausdinti_informacija(self):\n",
    "        print(f\"Vardas: {self.vardas}, Pavarde: {self.pavarde}, Atlyginimas: {self.atlyginimas}\")\n",
    "\n",
    "class Administratorius(Darbuotojas):\n",
    "    pass\n",
    "\n",
    "class Vadovas(Darbuotojas):\n",
    "    def __init__(self, vardas, pavarde, atlyginimas, premija):\n",
    "        super().__init__(vardas, pavarde, atlyginimas)\n",
    "        self.premija = premija\n",
    "\n",
    "    def atspausdinti_informacija(self):\n",
    "        super().atspausdinti_informacija()\n",
    "        print(f\"Premija: {self.premija}\")"
   ]
  },
  {
   "cell_type": "code",
   "execution_count": 19,
   "metadata": {},
   "outputs": [
    {
     "name": "stdout",
     "output_type": "stream",
     "text": [
      "Vardas: Jonas, Pavarde: Jonaitis, Atlyginimas: 1000\n",
      "Vardas: Renaldas, Pavarde: Zvėga, Atlyginimas: 2000\n",
      "Vardas: Antanas, Pavarde: Antanaitis, Atlyginimas: 1500\n",
      "Premija: 500\n"
     ]
    }
   ],
   "source": [
    "darbuotojas1 = Darbuotojas(\"Jonas\", \"Jonaitis\", 1000)\n",
    "darbuotojas1.atspausdinti_informacija()\n",
    "\n",
    "administratorius1 = Administratorius(\"Renaldas\", \"Zvėga\", 2000)\n",
    "administratorius1.atspausdinti_informacija()\n",
    "\n",
    "vadovas1 = Vadovas(\"Antanas\", \"Antanaitis\", 1500, 500)\n",
    "vadovas1.atspausdinti_informacija()"
   ]
  },
  {
   "cell_type": "code",
   "execution_count": 21,
   "metadata": {},
   "outputs": [
    {
     "name": "stdout",
     "output_type": "stream",
     "text": [
      "Gyvunas\n",
      "Au au!\n",
      "Miau miau!\n"
     ]
    }
   ],
   "source": [
    "# Polimorfizmas yra objektinio programavimo konceptas,\n",
    "# kuris leidžia objektams turėti daugybę formų ar elgesių.\n",
    "# Tai reiškia, kad objektas gali pasirodyti skirtingai, priklausomai nuo to,\n",
    "# kurioje kontekste jis naudojamas arba kaip jis yra naudojamas.\n",
    "\n",
    "# Python programavimo kalba palaiko polimorfizmą, kaip ir dauguma kitų objektinio programavimo kalbų.\n",
    "# Polimorfizmas gali būti pasiektas skirtingais būdais,\n",
    "# tačiau vienas dažniausiai naudojamas būdas yra polimorfizmo perklaidos.\n",
    "# Tai yra, funkcija ar metodas gali turėti daugybę įėjimo argumentų tipų,\n",
    "# o jos elgsena skirtinga priklausomai nuo to, kokio tipo objektas yra paduotas kaip argumentas.\n",
    "\n",
    "# Pavyzdžiui, turime klasę \"Gyvūnas\", kuri turi metodą \"garsas()\".\n",
    "# Ši klasė gali būti paveldėta kitų klasės, pvz., \"Šuo\" ir \"Katė\".\n",
    "# Kiekviena iš šių klasės gali perrašyti \"garsas()\" metodą, kad jis grąžintų skirtingus garsus,\n",
    "# atsižvelgiant į gyvūno rūšį. Kai naudojate \"garsas()\" metodą,\n",
    "# Python automatiškai nustato, kokia konkreti \"garsas()\" metodo implementacija turėtų būti naudojama,\n",
    "# priklausomai nuo to, kokia klasė yra naudojama.\n",
    "\n",
    "# Pavyzdys kodui:\n",
    "\n",
    "class Gyvunas:\n",
    "    def garsas(self):\n",
    "        print(\"Gyvunas\")\n",
    "\n",
    "class Suo(Gyvunas):\n",
    "    def garsas(self):\n",
    "        print(\"Au au!\")\n",
    "\n",
    "class Kate(Gyvunas):\n",
    "    def garsas(self):\n",
    "        print(\"Miau miau!\")\n",
    "\n",
    "def skleisti_garsa(gyvunas):\n",
    "    gyvunas.garsas()\n",
    "\n",
    "gyvunas = Gyvunas()\n",
    "suo = Suo()\n",
    "kate = Kate()\n",
    "\n",
    "skleisti_garsa(gyvunas) # išveda: Gyvunas\n",
    "skleisti_garsa(suo) # išveda: Au au!\n",
    "skleisti_garsa(kate) # išveda: Miau miau!\n",
    "\n",
    "# Šiame pavyzdyje \"skleisti_garsa()\" funkcija priima \"gyvunas\" objektą,\n",
    "# tačiau kai jai perduodame \"Sua\" objektą ar \"Kate\" objektą,\n",
    "# metodo implementacija pasirenkama atsižvelgiant į objekto tipą.\n",
    "# Tai yra polimorfizmo perklaidos pavyzdys Python programavimo kalboje."
   ]
  }
 ],
 "metadata": {
  "kernelspec": {
   "display_name": "venv",
   "language": "python",
   "name": "python3"
  },
  "language_info": {
   "codemirror_mode": {
    "name": "ipython",
    "version": 3
   },
   "file_extension": ".py",
   "mimetype": "text/x-python",
   "name": "python",
   "nbconvert_exporter": "python",
   "pygments_lexer": "ipython3",
   "version": "3.11.2"
  },
  "orig_nbformat": 4
 },
 "nbformat": 4,
 "nbformat_minor": 2
}
