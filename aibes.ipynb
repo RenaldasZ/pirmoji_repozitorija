{
 "cells": [
  {
   "cell_type": "code",
   "execution_count": 55,
   "metadata": {},
   "outputs": [
    {
     "name": "stdout",
     "output_type": "stream",
     "text": [
      "{'pomidorai', 'braskes', 'arbuzai', 'melynes'} <class 'set'>\n",
      "set() <class 'set'>\n",
      "{} <class 'dict'>\n"
     ]
    }
   ],
   "source": [
    "uogos = {'braskes', 'pomidorai', 'arbuzai', 'melynes'}\n",
    "tuscia = set()\n",
    "neaibe = {}\n",
    "\n",
    "print(uogos, type(uogos))\n",
    "print(tuscia, type(tuscia))\n",
    "print(neaibe, type(neaibe))"
   ]
  },
  {
   "cell_type": "code",
   "execution_count": 56,
   "metadata": {},
   "outputs": [
    {
     "name": "stdout",
     "output_type": "stream",
     "text": [
      "{'pomidorai', 'zemuoges', 'arbuzai', 'melynes', 'braskes'}\n"
     ]
    }
   ],
   "source": [
    "uogos.add(\"zemuoges\")\n",
    "print(uogos)"
   ]
  },
  {
   "cell_type": "code",
   "execution_count": 57,
   "metadata": {},
   "outputs": [
    {
     "name": "stdout",
     "output_type": "stream",
     "text": [
      "{'pomidorai', 'zemuoges', 'bruknes', 'arbuzai', 'alyvuoges', 'melynes', 'braskes'}\n"
     ]
    }
   ],
   "source": [
    "kitos_uogos = [\"braskes\", \"bruknes\", \"alyvuoges\"]\n",
    "uogos.update(kitos_uogos)\n",
    "print(uogos)"
   ]
  },
  {
   "cell_type": "code",
   "execution_count": 58,
   "metadata": {},
   "outputs": [
    {
     "name": "stdout",
     "output_type": "stream",
     "text": [
      "{'pomidorai', 'zemuoges', 'bruknes', 'arbuzai', 'alyvuoges', 'melynes'}\n",
      "{'pomidorai', 'zemuoges', 'bruknes', 'arbuzai', 'alyvuoges', 'melynes', 'braskes'}\n"
     ]
    }
   ],
   "source": [
    "uogos.remove(\"braskes\")\n",
    "print(uogos)\n",
    "uogos.add(kitos_uogos[0])\n",
    "print(uogos)"
   ]
  },
  {
   "cell_type": "code",
   "execution_count": 59,
   "metadata": {},
   "outputs": [
    {
     "name": "stdout",
     "output_type": "stream",
     "text": [
      "{'pomidorai', 'zemuoges', 'bruknes', 'arbuzai', 'alyvuoges', 'melynes', 'braskes'}\n"
     ]
    }
   ],
   "source": [
    "uogos.discard(\"bananas\")\n",
    "print(uogos)"
   ]
  },
  {
   "cell_type": "code",
   "execution_count": 60,
   "metadata": {},
   "outputs": [
    {
     "name": "stdout",
     "output_type": "stream",
     "text": [
      "pomidorai\n",
      "{'zemuoges', 'bruknes', 'arbuzai', 'alyvuoges', 'melynes', 'braskes'}\n"
     ]
    }
   ],
   "source": [
    "betkuris = uogos.pop()\n",
    "print(betkuris)\n",
    "print(uogos)"
   ]
  },
  {
   "cell_type": "code",
   "execution_count": 61,
   "metadata": {},
   "outputs": [
    {
     "name": "stdout",
     "output_type": "stream",
     "text": [
      "{'zemuoges', 'bruknes', 'arbuzai', 'alyvuoges', 'melynes', 'braskes'}\n",
      "{'zemuoges', 'bruknes', 'arbuzai', 'alyvuoges', 'melynes', 'braskes'}\n",
      "{'zemuoges', 'bruknes', 'avietes', 'arbuzai', 'alyvuoges', 'melynes', 'braskes'}\n"
     ]
    }
   ],
   "source": [
    "kitos_uogos = uogos\n",
    "print(kitos_uogos)\n",
    "print(uogos)\n",
    "kitos_uogos.add(\"avietes\")\n",
    "print(uogos)"
   ]
  },
  {
   "cell_type": "code",
   "execution_count": 62,
   "metadata": {},
   "outputs": [
    {
     "name": "stdout",
     "output_type": "stream",
     "text": [
      "{'zemuoges', 'bruknes', 'avietes', 'arbuzai', 'alyvuoges', 'melynes', 'braskes'}\n",
      "{'arbuzai', 'alyvuoges', 'melynes', 'zemuoges', 'braskes', 'bruknes', 'avietes'}\n",
      "{'zemuoges', 'bruknes', 'avietes', 'arbuzai', 'alyvuoges', 'melynes', 'braskes'}\n",
      "{'alyvuoges', 'melynes', 'zemuoges', 'braskes', 'bruknes', 'avietes'}\n"
     ]
    }
   ],
   "source": [
    "kitos_uogos = uogos.copy()\n",
    "print(uogos)\n",
    "print(kitos_uogos)\n",
    "kitos_uogos.pop()\n",
    "print(uogos)\n",
    "print(kitos_uogos)"
   ]
  },
  {
   "cell_type": "code",
   "execution_count": 63,
   "metadata": {},
   "outputs": [
    {
     "name": "stdout",
     "output_type": "stream",
     "text": [
      "{'bruknes', 'avietes', 'arbuzai', 'alyvuoges', 'melynes', 'braskes'}\n"
     ]
    }
   ],
   "source": [
    "uogos.pop()\n",
    "print(uogos)"
   ]
  },
  {
   "cell_type": "code",
   "execution_count": 64,
   "metadata": {},
   "outputs": [
    {
     "name": "stdout",
     "output_type": "stream",
     "text": [
      "{'zemuoges', 'bruknes', 'avietes', 'arbuzai', 'alyvuoges', 'melynes', 'braskes'}\n"
     ]
    }
   ],
   "source": [
    "visos = uogos.union(kitos_uogos)\n",
    "print(visos)"
   ]
  },
  {
   "cell_type": "code",
   "execution_count": 65,
   "metadata": {},
   "outputs": [
    {
     "name": "stdout",
     "output_type": "stream",
     "text": [
      "{'zemuoges', 'bruknes', 'avietes', 'arbuzai', 'alyvuoges', 'melynes', 'braskes'}\n"
     ]
    }
   ],
   "source": [
    "bendros = uogos.union(kitos_uogos)\n",
    "print(visos)"
   ]
  },
  {
   "cell_type": "code",
   "execution_count": 66,
   "metadata": {},
   "outputs": [
    {
     "name": "stdout",
     "output_type": "stream",
     "text": [
      "{'arbuzai'} {'zemuoges'}\n"
     ]
    }
   ],
   "source": [
    "unikalios = uogos.difference(kitos_uogos)\n",
    "kitos_unikalios = kitos_uogos.difference(uogos)\n",
    "print(unikalios, kitos_unikalios)"
   ]
  },
  {
   "cell_type": "code",
   "execution_count": 67,
   "metadata": {},
   "outputs": [
    {
     "name": "stdout",
     "output_type": "stream",
     "text": [
      "['bruknes', 'avietes', 'arbuzai', 'alyvuoges', 'melynes', 'braskes']\n"
     ]
    }
   ],
   "source": [
    "print(list(uogos))"
   ]
  },
  {
   "cell_type": "code",
   "execution_count": 68,
   "metadata": {},
   "outputs": [
    {
     "name": "stdout",
     "output_type": "stream",
     "text": [
      "bruknes\n",
      "avietes\n",
      "arbuzai\n",
      "alyvuoges\n",
      "melynes\n",
      "braskes\n"
     ]
    }
   ],
   "source": [
    "for uoga in uogos:\n",
    "    print(uoga)"
   ]
  },
  {
   "attachments": {},
   "cell_type": "markdown",
   "metadata": {},
   "source": [
    "## Uzduotys"
   ]
  },
  {
   "cell_type": "code",
   "execution_count": 69,
   "metadata": {},
   "outputs": [
    {
     "name": "stdout",
     "output_type": "stream",
     "text": [
      "{1, 2, 3, '4'}\n"
     ]
    }
   ],
   "source": [
    "aibe = {1, 2, 3}\n",
    "aibe.add(\"4\")\n",
    "print(aibe)"
   ]
  },
  {
   "cell_type": "code",
   "execution_count": 70,
   "metadata": {},
   "outputs": [
    {
     "name": "stdout",
     "output_type": "stream",
     "text": [
      "{1, 2}\n"
     ]
    }
   ],
   "source": [
    "aibe2 = {1, 2, 3}\n",
    "aibe2.remove(3)\n",
    "print(aibe2)"
   ]
  },
  {
   "cell_type": "code",
   "execution_count": 71,
   "metadata": {},
   "outputs": [
    {
     "name": "stdout",
     "output_type": "stream",
     "text": [
      "{1, 2}\n"
     ]
    }
   ],
   "source": [
    "trecia_aibe = aibe.intersection(aibe2)\n",
    "print(trecia_aibe)"
   ]
  },
  {
   "cell_type": "code",
   "execution_count": 72,
   "metadata": {},
   "outputs": [
    {
     "name": "stdout",
     "output_type": "stream",
     "text": [
      "{3, '4'}\n"
     ]
    }
   ],
   "source": [
    "ketvirta_aibe = aibe.difference(aibe2)\n",
    "print(ketvirta_aibe)"
   ]
  },
  {
   "cell_type": "code",
   "execution_count": 73,
   "metadata": {},
   "outputs": [
    {
     "name": "stdout",
     "output_type": "stream",
     "text": [
      "set()\n"
     ]
    }
   ],
   "source": [
    "penkta_aibe = aibe2.difference(aibe)\n",
    "print(penkta_aibe)"
   ]
  },
  {
   "cell_type": "code",
   "execution_count": 74,
   "metadata": {},
   "outputs": [
    {
     "name": "stdout",
     "output_type": "stream",
     "text": [
      "5 užduoties aibės elementai kvadratu: set()\n"
     ]
    }
   ],
   "source": [
    "aibe_kvadratu = {x**2 for x in penkta_aibe}\n",
    "print('5 užduoties aibės elementai kvadratu:', aibe_kvadratu)"
   ]
  }
 ],
 "metadata": {
  "kernelspec": {
   "display_name": "venv",
   "language": "python",
   "name": "python3"
  },
  "language_info": {
   "codemirror_mode": {
    "name": "ipython",
    "version": 3
   },
   "file_extension": ".py",
   "mimetype": "text/x-python",
   "name": "python",
   "nbconvert_exporter": "python",
   "pygments_lexer": "ipython3",
   "version": "3.11.2"
  },
  "orig_nbformat": 4
 },
 "nbformat": 4,
 "nbformat_minor": 2
}
